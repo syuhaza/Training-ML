{
  "nbformat": 4,
  "nbformat_minor": 0,
  "metadata": {
    "colab": {
      "provenance": [],
      "include_colab_link": true
    },
    "kernelspec": {
      "name": "python3",
      "display_name": "Python 3"
    },
    "language_info": {
      "name": "python"
    }
  },
  "cells": [
    {
      "cell_type": "markdown",
      "metadata": {
        "id": "view-in-github",
        "colab_type": "text"
      },
      "source": [
        "<a href=\"https://colab.research.google.com/github/syuhaza/Training-ML/blob/master/python103_nursyuhada.ipynb\" target=\"_parent\"><img src=\"https://colab.research.google.com/assets/colab-badge.svg\" alt=\"Open In Colab\"/></a>"
      ]
    },
    {
      "cell_type": "markdown",
      "source": [
        "\n",
        "**Problem 1:**\n",
        "\n",
        "A laboratory technician always needs to prepare various solutions.\n",
        "\n",
        "Coming Sunday, he has to create a 20-liter solution that is 35% salt by mixing two available solutions. One solution (A) is 25% salt, and the other solution (B) is 50% salt. How many liters of each solution are required to achieve the desired concentration?\n",
        "\n",
        "Coming Monday, he has to create an 8-liter solution that is 25% sugar by mixing two available solutions. One solution (A) is 15% sugar, and the other solution (B) is 40% sugar. How many liters of each solution are required to achieve the desired concentration?\n",
        "\n",
        "Write a simple, generic Python program to assist the laboratory technician. The program must take all these numbers (20 liters, 35, 25, 50) as input and calculate the required liters of each solution and print them. Please note that the same program must work for the second problem as well (8 liters, 25, 15, 40).\n",
        "\n",
        "The maximum stock for solution (A) and solution (B) is always 3 liter only. After calculating/printing the required quantity of A and B, throw proper message. For example, required quantity of solution (A) is less than 3 liter say \"Solution (A) is available can proceed\". If required quantity of solution (B) is greater than 3 liter say \"Solution (B) is not available, please order 1.3 liter now\"."
      ],
      "metadata": {
        "id": "yZ_jww8bTeMV"
      }
    },
    {
      "cell_type": "code",
      "execution_count": null,
      "metadata": {
        "id": "j7nHyDWNQPAW",
        "colab": {
          "base_uri": "https://localhost:8080/"
        },
        "outputId": "7f5145fb-af90-4ae8-f307-5e66ef72be14"
      },
      "outputs": [
        {
          "output_type": "stream",
          "name": "stdout",
          "text": [
            "Please enter the total volume: 8\n",
            "Please enter the total concentration (%): 25\n",
            "Please enter the concentration for solution (A)(%): 15\n",
            "Please enter the concentration for solution (B)(%): 40\n",
            "The liters that required for solution (A): 5 liter\n",
            "The liters that required for solution (B): 3 liter\n",
            "Solution (A) is not available, please order 1.80 liter now\n",
            "Solution (B) is not available, please order 0.20 liter now\n"
          ]
        }
      ],
      "source": [
        "totalVolume = int(input(\"Please enter the total volume: \"))\n",
        "totalConcentration = float(input(\"Please enter the total concentration (%): \"))\n",
        "concentrationA = float(input(\"Please enter the concentration for solution (A)(%): \"))\n",
        "concentrationB = float(input(\"Please enter the concentration for solution (B)(%): \"))\n",
        "\n",
        "volumeB = float(((totalVolume * (concentrationA/100)) - (totalVolume * (totalConcentration/100))) / ((concentrationA/100) - (concentrationB/100)))\n",
        "volumeA = float(totalVolume - volumeB)\n",
        "\n",
        "print(f\"The liters that required for solution (A): {volumeA:.0f} liter\")\n",
        "print(f\"The liters that required for solution (B): {volumeB:.0f} liter\")\n",
        "\n",
        "\n",
        "if (volumeA < 3):\n",
        "  print(\"Solution (A) is available can proceed\")\n",
        "elif(volumeA > 3):\n",
        "  newVolumeA = volumeA - 3\n",
        "  print(f\"Solution (A) is not available, please order {newVolumeA:.2f} liter now\")\n",
        "\n",
        "\n",
        "if (volumeB < 3):\n",
        "  print(\"Solution (B) is available can proceed\")\n",
        "elif(volumeB > 3):\n",
        "  newVolumeB = volumeB - 3\n",
        "  print(f\"Solution (B) is not available, please order {newVolumeB:.2f} liter now\")"
      ]
    },
    {
      "cell_type": "markdown",
      "source": [
        "**Problem 2:**\n",
        "\n",
        "Initialize two variables, x = 0b10101100 and y = 0b11011001.\n",
        "\n",
        "Write Python code to:\n",
        "1. Extract the lower 4 bits from x.\n",
        "2. Check if y is even or odd.\n",
        "3. Clear the upper 4 bits of x.\n",
        "4. Check if the 5th bit of y is set."
      ],
      "metadata": {
        "id": "CuPRRvlXiiBH"
      }
    },
    {
      "cell_type": "code",
      "source": [
        "x = 0b10101100\n",
        "y = 0b11011001\n",
        "\n",
        "lower_x = x & 0b01011111\n",
        "print(\"1.\",bin(lower_x))\n",
        "\n",
        "print(\"2. Y is even number\") if (y % 2 == 0) else print(\"2. Y is odd number\")\n",
        "\n",
        "cleared_x = x & 0b01011111\n",
        "print(\"3.\",bin(cleared_x))\n",
        "\n",
        "mask = 0b00010000\n",
        "print(\"4. The 5th bit of y is set\") if (y & mask == mask) else print(\"4. The 5th bit of y is not set\")\n"
      ],
      "metadata": {
        "id": "AEuKd6tTihdg",
        "colab": {
          "base_uri": "https://localhost:8080/"
        },
        "outputId": "f7cfba93-1c5b-4fc0-85aa-33a6391f8aff"
      },
      "execution_count": null,
      "outputs": [
        {
          "output_type": "stream",
          "name": "stdout",
          "text": [
            "1. 0b1100\n",
            "2. Y is odd number\n",
            "3. 0b1100\n",
            "4. The 5th bit of y is set\n"
          ]
        }
      ]
    },
    {
      "cell_type": "markdown",
      "source": [
        "**Problem 3:**\n",
        "\n",
        "A construction project requires two workers to complete. Worker A can complete the project in 12 hours, while Worker B can complete the same project in 16 hours. How long will it take for both workers to complete the project if they work together?\n",
        "\n",
        "Another project requires Worker C, who can complete it in 8 hours, and Worker D, who can complete it in 10 hours. How long will it take for both workers to complete this project if they work together?\n",
        "\n",
        "Write a simple, generic Python program to assist in calculating the time required for two workers to complete a project when working together. The program must take all these numbers (12, 16) as input and calculate the required time. Finally, print the result. Please note that the same program must work for the second problem as well (8, 10)."
      ],
      "metadata": {
        "id": "ryq4wdh-VRZO"
      }
    },
    {
      "cell_type": "code",
      "source": [
        "worker1 = int(input(\"Please enter hour for first worker:\"))\n",
        "worker2 = int(input(\"Please enter hour for second worker:\"))\n",
        "\n",
        "workDone = float((1/worker1) + (1/worker2))\n",
        "timeTaken = float(1/workDone)\n",
        "\n",
        "print(f\"It take approximately {timeTaken:.2f} hours\")"
      ],
      "metadata": {
        "id": "20sqD-y6V35a",
        "colab": {
          "base_uri": "https://localhost:8080/"
        },
        "outputId": "0d358732-924e-490a-b33d-1f3ce061bcb0"
      },
      "execution_count": null,
      "outputs": [
        {
          "output_type": "stream",
          "name": "stdout",
          "text": [
            "Please enter hour for first worker:8\n",
            "Please enter hour for second worker:10\n",
            "It take approximately 4.44 hours\n"
          ]
        }
      ]
    },
    {
      "cell_type": "markdown",
      "source": [
        "**Problem 4:**\n",
        "\n",
        "Initialize two variables, a = 0b10101000 and b = 0b01010100.\n",
        "\n",
        "Write Python code to:\n",
        "1. Set the lower 4 bits of a.\n",
        "2. Combine the bits of a and b using OR.\n",
        "3. Create a mask to set the 2nd and 6th bits of a."
      ],
      "metadata": {
        "id": "LR4THn3ujIbU"
      }
    },
    {
      "cell_type": "code",
      "source": [
        "a = 0b10101000\n",
        "b = 0b01010100\n",
        "\n",
        "mask = 0b00001111\n",
        "lower_a = a | mask\n",
        "print(f\"The lower 4 bits of a: {bin(lower_a)}\")\n",
        "\n",
        "combineBits = a | b\n",
        "print(f\"Combined a and b using OR.{bin(combineBits)}\")\n",
        "\n",
        "mask = 0b00100010\n",
        "print(f\"Set the 2nd and 6th bits of a: {bin(a ^ mask)}\")"
      ],
      "metadata": {
        "colab": {
          "base_uri": "https://localhost:8080/"
        },
        "id": "LbgVBf6iUPwh",
        "outputId": "3e558f70-df18-4e7b-9c47-9ee764b47c07"
      },
      "execution_count": null,
      "outputs": [
        {
          "output_type": "stream",
          "name": "stdout",
          "text": [
            "The lower 4 bits of a: 0b10101111\n",
            "Combined a and b using OR.0b11111100\n",
            "Set the 2nd and 6th bits of a: 0b10001010\n"
          ]
        }
      ]
    },
    {
      "cell_type": "markdown",
      "source": [
        "**Problem 5:**\n",
        "\n",
        "An investor decides to invest a total of RM30,000 in two different accounts. The first account offers a 5% annual interest rate, while the second account offers a 7% annual interest rate. If the total annual interest earned is RM1,800, how much money was invested in each account?\n",
        "\n",
        "Another investor decides to invest a total of RM50,000 in two different accounts. The first account offers a 3% annual interest rate, while the second account offers a 6% annual interest rate. If the total annual interest earned is RM2,400, how much money was invested in each account?\n",
        "\n",
        "Write a simple, generic Python program to assist in calculating the amount of money invested in each account to achieve the desired total annual interest. The program must take all these numbers (30000, 5, 7, 1800) as input and calculate the required amounts. Finally, print the result. Please note that the same program must work for the second problem as well (50000, 3, 6, 2400)."
      ],
      "metadata": {
        "id": "BBQuhaN-V5qn"
      }
    },
    {
      "cell_type": "code",
      "source": [
        "principalAmount = int(input(\"Enter the total amount to invest (RM):\"))\n",
        "rate1 = int(input(\"Enter the annual interest rate for first account (%):\"))\n",
        "rate2 = int(input(\"Enter the annual interest rate for second account (%):\"))\n",
        "totalEarned = int(input(\"Total annual interest rate earned (RM):\\n\"))\n",
        "\n",
        "Total_firstAcc = float((totalEarned - ((rate2/100) * principalAmount)) / ((rate1/100) - (rate2/100)))\n",
        "Total_secAcc = float(30000 - Total_firstAcc)\n",
        "\n",
        "print(f\"Amount invested in first account: RM {Total_firstAcc:.2f}\")\n",
        "print(f\"Amount invested in second account: RM {Total_secAcc:.2f}\")"
      ],
      "metadata": {
        "id": "SvEyKXN7WPx7",
        "colab": {
          "base_uri": "https://localhost:8080/"
        },
        "outputId": "8d7855ec-810b-4433-a451-8f5012f93e3a"
      },
      "execution_count": null,
      "outputs": [
        {
          "output_type": "stream",
          "name": "stdout",
          "text": [
            "Enter the total amount to invest (RM):30000\n",
            "Enter the annual interest rate for first account (%):5\n",
            "Enter the annual interest rate for second account (%):7\n",
            "Total annual interest rate earned (RM):1800\n",
            "Amount invested in first account: RM 15000.00\n",
            "Amount invested in second account: RM 15000.00\n"
          ]
        }
      ]
    },
    {
      "cell_type": "markdown",
      "source": [
        "**Problem 6:**\n",
        "\n",
        "Initialize two variables, x = 0b10101100 and y = 0b11010010.\n",
        "\n",
        "Write Python code to:\n",
        "1. Swap the values of x and y without using a temporary variable.\n",
        "2. Toggle the 3rd and 5th bits of x.\n",
        "3. Check if two given numbers a = 29 and b = 15 are different."
      ],
      "metadata": {
        "id": "TpU-rkRAjabE"
      }
    },
    {
      "cell_type": "code",
      "source": [
        "x = 0b10101100\n",
        "y = 0b11010010\n",
        "\n",
        "x = x ^ y\n",
        "y = x ^ y\n",
        "x = x ^ y\n",
        "print(f\"Variable y after swap: {bin(y)}\")\n",
        "print(f\"Variable x after swap: {bin(x)}\\n\")\n",
        "\n",
        "x = 0b10101100\n",
        "toggle = 0b00010100\n",
        "print(f\"Before toggle the 3rd and 5th bits of x:{bin(x)}\")\n",
        "print(f\"After toggle the 3rd and 5th bits of x:{bin(x ^ toggle)}\\n\")\n",
        "\n",
        "a = 29\n",
        "b = 15\n",
        "print(\"Yes, 29 and 15 is different.\") if(a != b) else print(\"No, 29 and 15 is not different.\")"
      ],
      "metadata": {
        "id": "3sCbY6mRjkD9",
        "colab": {
          "base_uri": "https://localhost:8080/"
        },
        "outputId": "d5bc1a21-cde4-4251-bf65-1dc6a7cd91cb"
      },
      "execution_count": null,
      "outputs": [
        {
          "output_type": "stream",
          "name": "stdout",
          "text": [
            "Variable y after swap: 0b10101100\n",
            "Variable x after swap: 0b11010010\n",
            "\n",
            "Before toggle the 3rd and 5th bits of x:0b10101100\n",
            "After toggle the 3rd and 5th bits of x:0b10000100\n",
            "\n",
            "Yes, 29 and 15 is different.\n"
          ]
        }
      ]
    }
  ]
}