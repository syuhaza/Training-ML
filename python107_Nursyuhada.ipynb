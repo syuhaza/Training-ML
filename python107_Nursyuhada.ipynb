{
  "nbformat": 4,
  "nbformat_minor": 0,
  "metadata": {
    "colab": {
      "provenance": [],
      "include_colab_link": true
    },
    "kernelspec": {
      "name": "python3",
      "display_name": "Python 3"
    },
    "language_info": {
      "name": "python"
    }
  },
  "cells": [
    {
      "cell_type": "markdown",
      "metadata": {
        "id": "view-in-github",
        "colab_type": "text"
      },
      "source": [
        "<a href=\"https://colab.research.google.com/github/syuhaza/Training-ML/blob/master/python107_Nursyuhada.ipynb\" target=\"_parent\"><img src=\"https://colab.research.google.com/assets/colab-badge.svg\" alt=\"Open In Colab\"/></a>"
      ]
    },
    {
      "cell_type": "markdown",
      "source": [
        "**Problem 1:**\n",
        "\n",
        "A pangram is a sentence using every letter of the alphabet at least once. It is case insensitive, so it doesn't matter if a letter is lower-case (e.g. k) or upper-case (e.g. K).\n",
        "\n",
        "For this exercise, a sentence is a pangram if it contains each of the 26 letters in the English alphabet.\n",
        "\n",
        "Example: The quick brown fox jumps over the lazy dog.\n",
        "\n",
        "*Your task is to figure out if a sentence is a pangram.*"
      ],
      "metadata": {
        "id": "QoMGXk6UXHB9"
      }
    },
    {
      "cell_type": "code",
      "execution_count": null,
      "metadata": {
        "id": "rDS-zDSbXBNK",
        "colab": {
          "base_uri": "https://localhost:8080/"
        },
        "outputId": "0cbffd0b-04c5-4225-fee5-1418876961cd"
      },
      "outputs": [
        {
          "output_type": "stream",
          "name": "stdout",
          "text": [
            "Enter the sentence to check the Pangram: The quick brown fox jumps over the lazy dog.\n",
            "The pangram for the sentence is:  True\n"
          ]
        }
      ],
      "source": [
        "class Pangram:\n",
        "\n",
        "  def __init__(self, stringInput):\n",
        "    self.sentence = stringInput\n",
        "\n",
        "  def checkPangram(self):\n",
        "    alphabet = 'abcdefghijklmnopqrstuvwxyz'\n",
        "    for char in alphabet:\n",
        "      if char not in self.sentence.lower():\n",
        "        return False\n",
        "    return True\n",
        "\n",
        "  # def __str__(self):\n",
        "  #   return f\"Pangram: {self.sentence}\"\n",
        "\n",
        "pangram = Pangram(input(\"Enter the sentence to check the Pangram: \"))\n",
        "# print(pangram.checkPangram())\n",
        "print(\"The pangram for the sentence is: \", pangram.checkPangram())\n"
      ]
    },
    {
      "cell_type": "markdown",
      "source": [
        "**Problem 2:**\n",
        "\n",
        "An isogram (also known as a \"non-pattern word\") is a word or phrase without a repeating letter, however spaces and hyphens are allowed to appear multiple times.\n",
        "\n",
        "Examples of isograms:\n",
        "\n",
        "lumberjacks\n",
        "background\n",
        "downstream\n",
        "six-year-old\n",
        "\n",
        "The word isograms, however, is not an isogram, because the s repeats.\n",
        "\n",
        "*Your task is to figure out if the user input is isogram*"
      ],
      "metadata": {
        "id": "nx1PnYYdXomU"
      }
    },
    {
      "cell_type": "code",
      "source": [
        "class Isograms:\n",
        "\n",
        "  def __init__(self, stringInput):\n",
        "    self.sentence = stringInput\n",
        "\n",
        "  def checkIsograms(self):\n",
        "    if len(self.sentence) == len(set(self.sentence)):\n",
        "      return True\n",
        "    else:\n",
        "      return False\n",
        "\n",
        "\n",
        "isograms = Isograms(input(\"Enter the sentence to check the isograms:\"))\n",
        "print(\"The Isograms for the sentence is: \", isograms.checkIsograms())\n",
        "\n"
      ],
      "metadata": {
        "id": "VygYtSBRXzb7",
        "colab": {
          "base_uri": "https://localhost:8080/"
        },
        "outputId": "a735f18e-3494-4121-b9ad-a4933eea20a0"
      },
      "execution_count": null,
      "outputs": [
        {
          "output_type": "stream",
          "name": "stdout",
          "text": [
            "Enter the sentence to check the isograms:lumberjacks background downstream six-year-old\n",
            "The Isograms for the sentence is:  False\n"
          ]
        }
      ]
    },
    {
      "cell_type": "markdown",
      "source": [
        "**Problem 3:**\n",
        "\n",
        "Parse and evaluate simple math word problems returning the answer as an integer.\n",
        "\n",
        "\n",
        "```\n",
        "What is 5?    -> 5\n",
        "What is 5 plus 13?    -> 13\n",
        "What is 7 minus 5?    -> 2\n",
        "What is 6 multiplied by 4?     -> 24\n",
        "What is 25 divided by 5?       -> 5\n",
        "What is 5 plus 13 plus 6?      -> 24\n",
        "What is 3 plus 2 multiplied by 3?       -> 15\n",
        "```"
      ],
      "metadata": {
        "id": "E96wh1LZYk-e"
      }
    },
    {
      "cell_type": "code",
      "source": [
        "class simpleMath:\n",
        "\n",
        "  def __init__(self):\n",
        "    self.expression = input(\"Enter an expression of simple math word problems: \")\n",
        "\n",
        "  def simpleMathWord(self):\n",
        "    self.expression =  self.expression.replace('What is', '')\n",
        "    self.expression =  self.expression.replace('?', '')\n",
        "    self.expression =  self.expression.replace('plus', '+')\n",
        "    self.expression =  self.expression.replace('minus', '-')\n",
        "    self.expression =  self.expression.replace('multiplied', '*')\n",
        "    self.expression =  self.expression.replace('divided', '/')\n",
        "\n",
        "    return self.expression\n",
        "\n",
        "stringInput = simpleMath()\n",
        "stringReplace = stringInput.simpleMathWord()\n",
        "result = eval(stringReplace)\n",
        "print(f\"The result of simple math problems: {result}\")\n"
      ],
      "metadata": {
        "id": "7Ah4oxC9ZIro",
        "colab": {
          "base_uri": "https://localhost:8080/"
        },
        "outputId": "d1e0200d-3462-4ba2-cbb8-acb9f90f6c15"
      },
      "execution_count": null,
      "outputs": [
        {
          "output_type": "stream",
          "name": "stdout",
          "text": [
            "Enter an expression of simple math word problems: What is 5 plus 13 plus 6? \n",
            "The result of simple math problems: 24\n"
          ]
        }
      ]
    },
    {
      "cell_type": "markdown",
      "source": [
        "**Problem 4**\n",
        "\n",
        "For this exercise, you need to know two things about them:\n",
        "\n",
        "Each resistor has a resistance value.\n",
        "Resistors are small - so small in fact that if you printed the resistance value on them, it would be hard to read.\n",
        "To get around this problem, manufacturers print color-coded bands onto the resistors to denote their resistance values. Each band has a position and a numeric value.\n",
        "\n",
        "The first 2 bands of a resistor have a simple encoding scheme: each color maps to a single number. For example, if they printed a brown band (value 1) followed by a green band (value 5), it would translate to the number 15.\n",
        "\n",
        "In this exercise you are going to create a helpful program so that you don't have to remember the values of the bands. The program will take color names as input and output a two digit number, even if the input is more than two colors!\n",
        "\n",
        "The band colors are encoded as follows:\n",
        "\n",
        "```\n",
        "1.   Black: 0\n",
        "2.   Brown: 1\n",
        "3.   Red: 2\n",
        "4.   Orange: 3\n",
        "5.   Yellow: 4\n",
        "6.   Green: 5\n",
        "7.   Blue: 6\n",
        "8.   Violet: 7\n",
        "9.   Grey: 8\n",
        "10.  White: 9\n",
        "```\n",
        "\n",
        "*From the example above:*\n",
        "\n",
        "brown-green should return 15\n",
        "\n",
        "brown-green-violet should return 15 too, ignoring the third color"
      ],
      "metadata": {
        "id": "hYxixq3Paw83"
      }
    },
    {
      "cell_type": "code",
      "source": [
        "class bandColors:\n",
        "\n",
        "  def __init__(self):\n",
        "    self.color = input(\"Enter the color of the band with the enhypen: \").split(\"-\")\n",
        "\n",
        "  def colorDigit(self, color):\n",
        "    if color == 'Black':\n",
        "      return '0'\n",
        "    elif color == 'Brown':\n",
        "      return '1'\n",
        "    elif color == 'Red':\n",
        "      return '2'\n",
        "    elif color == 'Orange':\n",
        "      return '3'\n",
        "    elif color == 'Yellow':\n",
        "      return '4'\n",
        "    elif color == 'Green':\n",
        "      return '5'\n",
        "    elif color == 'Blue':\n",
        "      return '6'\n",
        "    elif color == 'Violet':\n",
        "      return '7'\n",
        "    elif color == 'Grey':\n",
        "      return '8'\n",
        "    elif color == 'White':\n",
        "      return '9'\n",
        "\n",
        "  def bands(self):\n",
        "    return ''.join(self.colorDigit(color) for color in self.color)\n",
        "\n",
        "\n",
        "\n",
        "printBandDigit = bandColors()\n",
        "totalDigit = printBandDigit.bands()\n",
        "# totalDigit = checkColor.bands()\n",
        "\n",
        "print(f\"The values of the {printBandDigit.color[0]}-{printBandDigit.color[1]}: {totalDigit}\")\n"
      ],
      "metadata": {
        "id": "k86PCFlJbLQG",
        "colab": {
          "base_uri": "https://localhost:8080/"
        },
        "outputId": "7922b555-f03c-4cb1-ddca-bf373d8c6b5f"
      },
      "execution_count": null,
      "outputs": [
        {
          "output_type": "stream",
          "name": "stdout",
          "text": [
            "Enter the color of the band with the enhypen: Brown-Green\n",
            "The values of the Brown-Green: 15\n"
          ]
        }
      ]
    },
    {
      "cell_type": "markdown",
      "source": [
        "**Problem 5**\n",
        "\n",
        "*Your task is to Validate Credit Card Number*\n",
        "\n",
        "Given a number determine whether or not it is valid per the Luhn formula.\n",
        "\n",
        "The Luhn algorithm is a simple checksum formula used to validate a variety of identification numbers, such as credit card numbers and Canadian Social Insurance Numbers.\n",
        "\n",
        "The task is to check if a given string is valid\n",
        "\n",
        "Valid credit card number\n",
        "\n",
        "4539 3195 0343 6467\n",
        "\n",
        "The first step of the Luhn algorithm is to double every second digit, starting from the right. We will be doubling\n",
        "\n",
        "4_3_ 3_9_ 0_4_ 6_6_\n",
        "\n",
        "If doubling the number results in a number greater than 9 then subtract 9 from the product. The results of our doubling:\n",
        "\n",
        "8569 6195 0383 3437\n",
        "\n",
        "Then sum all of the digits:\n",
        "\n",
        "8+5+6+9+6+1+9+5+0+3+8+3+3+4+3+7 = 80\n",
        "\n",
        "If the sum is evenly divisible by 10, then the number is valid. This number is valid!"
      ],
      "metadata": {
        "id": "Lobv2LGbbX1D"
      }
    },
    {
      "cell_type": "code",
      "source": [
        "class validateCreditCard:\n",
        "\n",
        "  def __init__(self, number):\n",
        "    self.number = number\n",
        "\n",
        "  def validate(self):\n",
        "    self.number = self.number.replace(\" \", \"\")[::-1]\n",
        "\n",
        "    totalSum = 0\n",
        "    for i in range(len(self.number)):\n",
        "      digit = int(self.number[i])\n",
        "\n",
        "      if i % 2 == 1:\n",
        "        digit *= 2\n",
        "        if digit > 9:\n",
        "          digit -= 9\n",
        "      totalSum += digit\n",
        "\n",
        "    return totalSum % 10 == 0\n",
        "\n",
        "\n",
        "creditCardNum = input(\"Enter the credit card number: \")\n",
        "\n",
        "validator = validateCreditCard(creditCardNum)\n",
        "if validator:\n",
        "  print(f\"The credit card number {creditCardNum} is valid!\")\n",
        "else:\n",
        "  print(f\"The credit card number {creditCardNum} is not valid!\")\n",
        "# print(validator.validate())\n",
        "\n"
      ],
      "metadata": {
        "id": "IDuW6CSCy5aE",
        "colab": {
          "base_uri": "https://localhost:8080/"
        },
        "outputId": "5671f5e5-f48c-4e74-f9ab-2857ad1c6caa"
      },
      "execution_count": null,
      "outputs": [
        {
          "output_type": "stream",
          "name": "stdout",
          "text": [
            "Enter the credit card number: 4539 3195 0343 6467\n",
            "The credit card number 4539 3195 0343 6467 is valid!\n"
          ]
        }
      ]
    },
    {
      "cell_type": "markdown",
      "source": [
        "**Problem 6**\n",
        "\n",
        "Write a Python class that has two methods: getString and printString , The getString accept a string from the user and printString prints the string in upper case."
      ],
      "metadata": {
        "id": "bHDdXXcjFmCe"
      }
    },
    {
      "cell_type": "code",
      "source": [
        "class String:\n",
        "\n",
        "  def __init__(self):\n",
        "    self.expression = \"\"\n",
        "\n",
        "  def getString(self):\n",
        "    self.expression = input(\"Enter an expression: \")\n",
        "\n",
        "  def printString(self):\n",
        "    print(self.expression.upper())\n",
        "\n",
        "objectString = String()\n",
        "objectString.getString()\n",
        "objectString.printString()"
      ],
      "metadata": {
        "id": "m63ggCk_FyBB",
        "colab": {
          "base_uri": "https://localhost:8080/"
        },
        "outputId": "6bdfde27-c7c4-4fa8-8b85-3340ecb00a55"
      },
      "execution_count": null,
      "outputs": [
        {
          "output_type": "stream",
          "name": "stdout",
          "text": [
            "Enter an expression: Hello world\n",
            "HELLO WORLD\n"
          ]
        }
      ]
    },
    {
      "cell_type": "markdown",
      "source": [
        "**Problem 7**\n",
        "\n",
        "Write a Python class Employee with properties id, name, salary, and department and methods like \\__init__ calculateSalary, assignDepartment and \\__str__.\n",
        "\n",
        "Sample Employee Data:\n",
        "\n",
        "```\n",
        "\"E7876\", \"ADAMS\", 50000, \"ACCOUNTING\"\n",
        "\"E7499\", \"JONES\", 45000, \"RESEARCH\"\n",
        "\"E7900\", \"MARTIN\", 50000, \"SALES\"\n",
        "\"E7698\", \"SMITH\", 55000, \"OPERATIONS\"\n",
        "```\n",
        "Use 'assignDepartment' method to change the department of an employee.\n",
        "\n",
        "Use '\\__str__' method to print the details of an employee.\n",
        "\n",
        "Use 'calculateSalary' method takes two arguments: salary and hours_worked, which is the number of hours worked by the employee. If the number of hours worked is more than 50, the method computes overtime and adds it to the salary.\n",
        "\n",
        "Overtime is calculated as following formula:\n",
        "overtime = hours_worked - 50\n",
        "Overtime amount = (overtime * (salary / 50))"
      ],
      "metadata": {
        "id": "OwNVg-Wf_slB"
      }
    },
    {
      "cell_type": "code",
      "source": [
        "class Employee:\n",
        "\n",
        "  def __init__(self, id, name, salary,department):\n",
        "    self.id = id\n",
        "    self.name = name\n",
        "    self.salary = salary\n",
        "    self.department = department\n",
        "\n",
        "  def calculateSalary(self):\n",
        "    hours_worked = int(input(\"Enter the hours worked: \"))\n",
        "\n",
        "    if hours_worked > 50:\n",
        "      ot = hours_worked - 50\n",
        "      otAmount = (ot * (self.salary / 50))\n",
        "      newSalary = self.salary + otAmount\n",
        "      print(f\"The hours worked is overtime. Your new salary is: {newSalary}\")\n",
        "    else:\n",
        "      print(f\"The salary is {self.salary}\")\n",
        "\n",
        "  def assignDepartment(self):\n",
        "      newDepartment = input(\"Enter the new department to assign to worker: \")\n",
        "\n",
        "      self.department = newDepartment\n",
        "      print(f\"The department of {self.name} has been changed to {self.department}\")\n",
        "\n",
        "\n",
        "  def __str__(self):\n",
        "      message = f\"Id: {self.id}\"\n",
        "      message += f\"Name: {self.name}\"\n",
        "      message += f\"Salary: {self.salary}\"\n",
        "      message += f\"Department: {self.department}\"\n",
        "      return message\n",
        "\n",
        "emp = [ (\"E7876\",\"ADAMS\",50000,\"ACCOUNTING\", 55),\n",
        "        (\"E7499\",\"JONES\",45000,\"RESEARCH\", 48),\n",
        "        (\"E7900\",\"MARTIN\",50000,\"SALES\", 60),\n",
        "        (\"E7698\",\"SMITH\",55000,\"OPERATIONS\", 45) ]\n",
        "\n",
        "emp = Employee()\n",
        "# emp.calculateSalary()\n",
        "# emp.assignDepartment()\n"
      ],
      "metadata": {
        "id": "XdG56X5pAehB"
      },
      "execution_count": null,
      "outputs": []
    },
    {
      "cell_type": "markdown",
      "source": [
        "**Problem 8**\n",
        "\n",
        "Write a Python class Inventory with attributes like id, productName, availableQuantity and price. Add methods like addItem, updateItem, and checkItem_details.\n",
        "\n",
        "Use a dictionary to store the item details, where the key is the id and the value is a dictionary containing the productName, availableQuantity and price.\n",
        "\n",
        "Sample Data:\n",
        "\n",
        "\n",
        "```\n",
        "{\n",
        "  \"97410\": {\n",
        "    \"name\": \"Television\",\n",
        "    \"availableQuantity\": 20,\n",
        "    \"price\": 1455.99\n",
        "  },\n",
        "  \"97411\": {\n",
        "    \"name\": \"Radio\",\n",
        "    \"availableQuantity\": 32,\n",
        "    \"price\": 654.25\n",
        "  }\n",
        "}\n",
        "```\n",
        "\n",
        "\n"
      ],
      "metadata": {
        "id": "Q2R8aBS9BAlQ"
      }
    },
    {
      "cell_type": "code",
      "source": [
        "class Inventory:\n",
        "\n",
        "  def __init__(self):\n",
        "    self.inventory = {}\n",
        "\n",
        "  def addItem(self, id, productName, availableQuantity, price):\n",
        "    self.inventory[id] = {\"Product Name\": productName, \"Available Quantity\": availableQuantity, \"Price\": price}\n",
        "    print(f\"Item {productName} with id {id} is added into inventory\")\n",
        "\n",
        "  def updateItem(self, id, productName=None, availableQuantity=None, price=None):\n",
        "    if id in self.inventory:\n",
        "      if productName:\n",
        "        self.inventory[id][\"Product Name\"] = productName\n",
        "      if availableQuantity:\n",
        "        self.inventory[id][\"Available Quantity\"] = availableQuantity\n",
        "      if price:\n",
        "        self.inventory[id][\"Price\"] = price\n",
        "      print(f\"Item {id} updated successfully.\")\n",
        "    else:\n",
        "      print(f\"The id {id} is not found in the inventory.\")\n",
        "\n",
        "  def checkItem_details(self):\n",
        "    if id in self.inventory:\n",
        "      item_details = self.inventory[id]\n",
        "      print(f\"Item {id} details\")\n",
        "      print(f\"Product Name: {item_details['Product Name']}\")\n",
        "      print(f\"Available Quantity: {item_details['Available Quantity']}\")\n",
        "      print(f\"Price: {item_details['Price']}\")\n",
        "    else:\n",
        "      print(f\"The id {id} is not found in the inventory.\")\n",
        "\n",
        "\n",
        "inventory = Inventory()\n",
        "inventory.addItem(\"97410\", \"Television\", 20, 1455.99)\n",
        "inventory.addItem(\"97411\", \"Radio\", 32, 654.25)\n",
        "inventory.checkItem_details(\"97410\")\n",
        "inventory.updateItem(\"97410\", availableQuantity=30)\n",
        "inventory.checkItem_details(\"97410\")\n"
      ],
      "metadata": {
        "id": "2AtN1IClCEUS"
      },
      "execution_count": null,
      "outputs": []
    },
    {
      "cell_type": "markdown",
      "source": [
        "**Problem 9**\n",
        "\n",
        "Write a  Python class BankAccount with attributes like accountNumber, openingBalance, currentBalance dateOfOpening and customerName. Add methods like deposit, withdraw, and checkBalance."
      ],
      "metadata": {
        "id": "v07XqqlWCeF3"
      }
    },
    {
      "cell_type": "code",
      "source": [
        "class BankAccount():\n",
        "\n",
        "  def __init__(self, accNum, openBalance, currentBalance, dateOfOpen, custName):\n",
        "    self.accNum = input(\"Enter account number: \")\n",
        "    self.openBalance = float(input(\"Enter amount of open balance: \"))\n",
        "    self.currentBalance = float(input(\"Enter the current balance: \"))\n",
        "    self.dateOfopen = input(\"Enter the date of opening (DD/MM/YYYY): \")\n",
        "    self.custName = input(\"Enter the customer name: \")\n",
        "\n",
        "  def depositMoney(self):\n",
        "    deposit = float(input(\"Enter amount of money you want to deposit: \"))\n",
        "    self.currentBalance += deposit\n",
        "    print(f\"Deposit successful. Your new balance is: {self.currentBalance}\")\n",
        "\n",
        "  def withdraw(self):\n",
        "    totalWithdraw = float(input(\"Enter amount of money you want to deposit: \"))\n",
        "    if totalWithdraw > self.currentBalance:\n",
        "      print(\"Insufficient balance. Failed to withdraw the money.\")\n",
        "    else:\n",
        "      self.currentBalance -= totalWithdraw\n",
        "      print(f\"Withdrawal successful. Your new balance is: {self.currentBalance}\")\n",
        "\n",
        "  def checkBalance(self):\n",
        "      print(f\"Your account balance is: {self.currentBalance}\")\n",
        "\n",
        "# bankAcc = BankAccount()\n",
        "# bankAcc.depositMoney()\n",
        "# bankAcc.withdraw()\n",
        "# bankAcc.checkBalance()\n"
      ],
      "metadata": {
        "id": "QumPFVaFEm2N"
      },
      "execution_count": null,
      "outputs": []
    },
    {
      "cell_type": "markdown",
      "source": [
        "**Problem 10**\n",
        "\n",
        "Write a Python class to check the validity of a string of parentheses,\n",
        "\n",
        "```\n",
        "'(', ')', '{', '}', '[' and '].\n",
        "```\n",
        "\n",
        "These brackets must be closed in the correct order,\n",
        "for example\n",
        "\n",
        "```\n",
        "\"()\" and \"()[]{}\" are valid\n",
        "\"[)\", \"({[)]\" and \"{{{\" are invalid.\n",
        "```"
      ],
      "metadata": {
        "id": "KrpUr80GGgI-"
      }
    },
    {
      "cell_type": "code",
      "source": [
        "class checkValidity():\n",
        "\n",
        "  def __init__(self):\n",
        "    self.stack = []\n",
        "    self.mapp = {\")\":\"(\", \"}\":\"{\",\"]\":\"[\"}\n",
        "\n",
        "  def is_valid(self, s):\n",
        "    for char in s:\n",
        "      if char in self.mapp.values():\n",
        "        self.stack.append(char)\n",
        "      elif char in self.mapp.keys():\n",
        "            if not self.stack or self.stack.pop() != self.mapp[char]:\n",
        "                  return False\n",
        "      else:\n",
        "                # Invalid character (not a valid parenthesis)\n",
        "            return False\n",
        "\n",
        "      return len(self.stack) == 0\n",
        "\n",
        "parenthesis = input(\"Enter the parenthesis: \")\n",
        "\n",
        "validator = checkValidity(parenthesis)\n",
        "if validator:\n",
        "  print(f\"The credit card number {parenthesis} is valid!\")\n",
        "else:\n",
        "  print(f\"The credit card number {parenthesis} is not valid!\")"
      ],
      "metadata": {
        "id": "5NaskGz8GmNJ"
      },
      "execution_count": null,
      "outputs": []
    }
  ]
}