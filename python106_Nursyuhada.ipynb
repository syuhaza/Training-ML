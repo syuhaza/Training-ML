{
  "nbformat": 4,
  "nbformat_minor": 0,
  "metadata": {
    "colab": {
      "provenance": [],
      "include_colab_link": true
    },
    "kernelspec": {
      "name": "python3",
      "display_name": "Python 3"
    },
    "language_info": {
      "name": "python"
    }
  },
  "cells": [
    {
      "cell_type": "markdown",
      "metadata": {
        "id": "view-in-github",
        "colab_type": "text"
      },
      "source": [
        "<a href=\"https://colab.research.google.com/github/syuhaza/Training-ML/blob/master/python106_Nursyuhada.ipynb\" target=\"_parent\"><img src=\"https://colab.research.google.com/assets/colab-badge.svg\" alt=\"Open In Colab\"/></a>"
      ]
    },
    {
      "cell_type": "markdown",
      "source": [
        "**Problem 1**\n",
        "\n",
        "Write a python function that takes a number as parameter and prints the multiplication table of that number"
      ],
      "metadata": {
        "id": "A0Bwrme6fTrE"
      }
    },
    {
      "cell_type": "code",
      "execution_count": null,
      "metadata": {
        "id": "EWkDXgTp_3vD",
        "colab": {
          "base_uri": "https://localhost:8080/"
        },
        "outputId": "5b65e894-1c5e-438c-e44e-73a1aeb5fa47"
      },
      "outputs": [
        {
          "output_type": "stream",
          "name": "stdout",
          "text": [
            "Enter a number: 4\n",
            "The multiplication table for 4: [4, 8, 12, 16, 20, 24, 28, 32, 36, 40, 44]\n"
          ]
        }
      ],
      "source": [
        "def multiplication(num):\n",
        "\n",
        "  multiplyList = []\n",
        "\n",
        "  num = int(num)\n",
        "  i = 0\n",
        "  while i <= 10:\n",
        "    newNum = num * (i+1)\n",
        "    multiplyList.append(newNum)\n",
        "    i += 1\n",
        "\n",
        "  return multiplyList\n",
        "\n",
        "\n",
        "num = input(\"Enter a number: \")\n",
        "\n",
        "multiplyList = multiplication(num)\n",
        "\n",
        "print(f\"The multiplication table for {num}: {multiplyList}\")\n",
        "\n"
      ]
    },
    {
      "cell_type": "markdown",
      "source": [
        "**Problem 2**\n",
        "\n",
        "Write a simple python function that returns twin primes less than 1000. If two consecutive odd numbers are both prime then they are known as twin primes.\n",
        "\n",
        "Pairs of primes that differ by 2. For example, 3 and 5, 5 and 7, 11 and 13, and 17 and 19 are twin primes."
      ],
      "metadata": {
        "id": "hHsndVQCfZNT"
      }
    },
    {
      "cell_type": "code",
      "source": [
        "def checkPrimeNumber(limit):\n",
        "\n",
        "  primes = []\n",
        "  for a in range(2, limit + 1):\n",
        "        isPrime =  True\n",
        "        for b in range(2, a):\n",
        "            if a % b == 0:\n",
        "                isPrime = False\n",
        "                break\n",
        "        if isPrime:\n",
        "            primes.append(a)\n",
        "\n",
        "  for i in range(len(primes) - 1):\n",
        "        if primes[i + 1] - primes[i] == 2:\n",
        "            print(\"(\", primes[i], \",\", primes[i + 1], \")\", end='\\n')\n",
        "\n",
        "\n",
        "\n",
        "checkPrimeNumber(1000)"
      ],
      "metadata": {
        "id": "DT9PXLVEAGjQ",
        "colab": {
          "base_uri": "https://localhost:8080/"
        },
        "outputId": "2c6d9c4b-ee10-412a-873c-c1407ff6eaa6"
      },
      "execution_count": null,
      "outputs": [
        {
          "output_type": "stream",
          "name": "stdout",
          "text": [
            "( 3 , 5 )\n",
            "( 5 , 7 )\n",
            "( 11 , 13 )\n",
            "( 17 , 19 )\n",
            "( 29 , 31 )\n",
            "( 41 , 43 )\n",
            "( 59 , 61 )\n",
            "( 71 , 73 )\n",
            "( 101 , 103 )\n",
            "( 107 , 109 )\n",
            "( 137 , 139 )\n",
            "( 149 , 151 )\n",
            "( 179 , 181 )\n",
            "( 191 , 193 )\n",
            "( 197 , 199 )\n",
            "( 227 , 229 )\n",
            "( 239 , 241 )\n",
            "( 269 , 271 )\n",
            "( 281 , 283 )\n",
            "( 311 , 313 )\n",
            "( 347 , 349 )\n",
            "( 419 , 421 )\n",
            "( 431 , 433 )\n",
            "( 461 , 463 )\n",
            "( 521 , 523 )\n",
            "( 569 , 571 )\n",
            "( 599 , 601 )\n",
            "( 617 , 619 )\n",
            "( 641 , 643 )\n",
            "( 659 , 661 )\n",
            "( 809 , 811 )\n",
            "( 821 , 823 )\n",
            "( 827 , 829 )\n",
            "( 857 , 859 )\n",
            "( 881 , 883 )\n"
          ]
        }
      ]
    },
    {
      "cell_type": "markdown",
      "source": [
        "**Problem 3**\n",
        "\n",
        "Write a simple python function that takes a number as parameter and returns  the prime factors of that number. Prime Factorization is finding which prime numbers multiply together to make the original number.\n",
        "\n",
        "Example: prime factors of 56 - 2, 2, 2, 7"
      ],
      "metadata": {
        "id": "IuSDs-t6hN2I"
      }
    },
    {
      "cell_type": "code",
      "source": [
        "def primeFactors(num):\n",
        "\n",
        "  factors = []\n",
        "  divisor = 2\n",
        "\n",
        "  while num > 1:\n",
        "    while num % divisor == 0:\n",
        "      factors.append(divisor)\n",
        "      num //= divisor\n",
        "    divisor += 1\n",
        "  return factors\n",
        "\n",
        "\n",
        "num = int(input(\"Enter a number:\"))\n",
        "factors = primeFactors(num)\n",
        "print(f\"The prime factors of {num}: {factors} \")"
      ],
      "metadata": {
        "id": "gm96Yr9-_6VN",
        "colab": {
          "base_uri": "https://localhost:8080/"
        },
        "outputId": "42635d31-2e86-4ecc-8af3-ce21a73a3222"
      },
      "execution_count": null,
      "outputs": [
        {
          "output_type": "stream",
          "name": "stdout",
          "text": [
            "Enter a number:56\n",
            "The prime factors of 56: [2, 2, 2, 7] \n"
          ]
        }
      ]
    },
    {
      "cell_type": "markdown",
      "source": [
        "**Problem 4**\n",
        "\n",
        "Write a function that inputs a number and returns the product of digits of that number."
      ],
      "metadata": {
        "id": "TjZG6aCDiaR8"
      }
    },
    {
      "cell_type": "code",
      "source": [
        "def calculateProduct(num):\n",
        "\n",
        "  product = 1\n",
        "  nums = num\n",
        "\n",
        "  while nums >  0:\n",
        "\n",
        "    product *= (nums % 10)\n",
        "    nums //= 10\n",
        "\n",
        "  return product\n",
        "\n",
        "num = int(input(\"Please enter a number: \"))\n",
        "\n",
        "product = (calculateProduct(num))\n",
        "\n",
        "print(f\"The product of digits of the number: {product}\")"
      ],
      "metadata": {
        "id": "mvt7rb44AD1O",
        "colab": {
          "base_uri": "https://localhost:8080/"
        },
        "outputId": "18ab5e91-eca7-49ab-bfea-1be42306787b"
      },
      "execution_count": null,
      "outputs": [
        {
          "output_type": "stream",
          "name": "stdout",
          "text": [
            "Please enter a number: 4513\n",
            "The product of digits of the number: 60\n"
          ]
        }
      ]
    },
    {
      "cell_type": "markdown",
      "source": [
        "**Problem 5**\n",
        "\n",
        "Write a function that takes a number as parameter. The function finds the proper divisors of that number and then finds the sum of proper divisors. Proper divisors of a number are those numbers by which the number is divisible, except the number itself.\n",
        "\n",
        "For example proper divisors of 36 are 1, 2, 3, 4, 6, 9, 18"
      ],
      "metadata": {
        "id": "dP39qvGMje7L"
      }
    },
    {
      "cell_type": "code",
      "source": [
        "def properDivisions(num):\n",
        "\n",
        "  properDivision = []\n",
        "  for i in range(1, num):\n",
        "    if num % i == 0:\n",
        "      properDivision.append(i)\n",
        "\n",
        "  sumDivisor = 0\n",
        "  for a in properDivision:\n",
        "    sumDivisor += a\n",
        "\n",
        "  return sumDivisor, properDivision\n",
        "\n",
        "num = int(input(\"Enter a number: \"))\n",
        "sumDivisor, properDivision = properDivisions(num)\n",
        "\n",
        "print(f\"The list of proper divisors of {num} is: {properDivision}\")\n",
        "print(f\"The sum of proper divisors of {num} is: {sumDivisor}\")\n"
      ],
      "metadata": {
        "id": "S29lD5Majy2V",
        "colab": {
          "base_uri": "https://localhost:8080/"
        },
        "outputId": "2beb1045-4b33-498c-b08c-4bf78e897031"
      },
      "execution_count": null,
      "outputs": [
        {
          "output_type": "stream",
          "name": "stdout",
          "text": [
            "Enter a number: 28\n",
            "The list of proper divisors of 28 is: [1, 2, 4, 7, 14]\n",
            "The sum of proper divisors of 28 is: 28\n"
          ]
        }
      ]
    },
    {
      "cell_type": "markdown",
      "source": [
        "**Problem 6**\n",
        "\n",
        "A number is called perfect if the sum of proper divisors of that number is equal to the number. For example 28 is perfect number, since 1+2+4+7+14=28. Write a program to print all the perfect numbers in a given range"
      ],
      "metadata": {
        "id": "mcVzyq8lj1Sr"
      }
    },
    {
      "cell_type": "code",
      "source": [
        "def perfectNumbers(n):\n",
        "\n",
        "  properDivision = []\n",
        "  sumDivisor = 0\n",
        "  for i in range(1, n):\n",
        "    if n % i == 0:\n",
        "      properDivision.append(i)\n",
        "      sumDivisor += i\n",
        "\n",
        "  return sumDivisor == n\n",
        "\n",
        "def printPerfectNumbers(start, end):\n",
        "\n",
        "  for num in range(start, end + 1):\n",
        "    if perfectNumbers(num):\n",
        "      print(num)\n",
        "\n",
        "start_range = int(input(\"Enter the start range: \"))\n",
        "end_range = int(input(\"Enter the end range: \"))\n",
        "print(\"Perfect numbers in the range {} to {}:\".format(start_range, end_range))\n",
        "printPerfectNumbers(start_range, end_range)"
      ],
      "metadata": {
        "id": "pfDuxZAcj--R",
        "colab": {
          "base_uri": "https://localhost:8080/"
        },
        "outputId": "0078d3e1-c593-4af3-a226-651334278a50"
      },
      "execution_count": null,
      "outputs": [
        {
          "output_type": "stream",
          "name": "stdout",
          "text": [
            "Enter the start range: 1\n",
            "Enter the end range: 100\n",
            "Perfect numbers in the range 1 to 100:\n",
            "6\n",
            "28\n"
          ]
        }
      ]
    },
    {
      "cell_type": "markdown",
      "source": [
        "**Problem 7**\n",
        "\n",
        "Write a python function that takes 2 parameters lower and upper (range). Let the function returns pairs of amicable numbers in that range.\n",
        "\n",
        "Two different numbers are called amicable numbers if the sum of the proper divisors of each is equal to the other number. For example 220 and 284 are amicable numbers.\n",
        "\n",
        "For example if we call that function: amicableNumbers(1, 1000)\n",
        "\n",
        "The function must return: **[220, 284]**\n",
        "\n",
        "\n",
        "*Why they are amicable numbers ?*\n",
        "\n",
        "Sum of proper divisors of **220** = 1+2+4+5+10+11+20+22+44+55+110 = **284**\n",
        "\n",
        "Sum of proper divisors of **284** = 1+2+4+71+142 = **220**\n",
        "\n",
        "\n",
        "\n"
      ],
      "metadata": {
        "id": "Wv5N6tzvkMlN"
      }
    },
    {
      "cell_type": "code",
      "source": [
        "def amicableNumbers(lower, upper):\n",
        "\n",
        "  def sumProperDivision(n):\n",
        "    properDivision = []\n",
        "    sumDivisor = 0\n",
        "    for i in range(1, n):\n",
        "      if n % i == 0:\n",
        "        properDivision.append(i)\n",
        "        sumDivisor += i\n",
        "\n",
        "    return sumDivisor\n",
        "\n",
        "  amicablePair = []\n",
        "  for i in range(lower, upper + 1):\n",
        "    j = sumProperDivision(i)\n",
        "    if j != i and j >= lower and j <= upper and sumProperDivision(j) == i:\n",
        "      amicablePair.append((i,j))\n",
        "\n",
        "  return amicablePair\n",
        "\n",
        "print(amicableNumbers(1, 10000))"
      ],
      "metadata": {
        "id": "402wOy0fk6o9",
        "colab": {
          "base_uri": "https://localhost:8080/"
        },
        "outputId": "767b5593-6d75-4248-a947-0d1efccb6b65"
      },
      "execution_count": null,
      "outputs": [
        {
          "output_type": "stream",
          "name": "stdout",
          "text": [
            "[(220, 284), (284, 220), (1184, 1210), (1210, 1184), (2620, 2924), (2924, 2620), (5020, 5564), (5564, 5020), (6232, 6368), (6368, 6232)]\n"
          ]
        }
      ]
    },
    {
      "cell_type": "markdown",
      "source": [
        "**Problem 8**\n",
        "\n",
        "Write a python function that takes variable length parameters and returns maximum and minimum number in the parameter numbers.\n",
        "\n",
        "For example if we call the function: maximumMinimum(10, 20, 30, 40, 50)\n",
        "\n",
        "The function must return: **[10, 50]**"
      ],
      "metadata": {
        "id": "C0KGpzm73ZjE"
      }
    },
    {
      "cell_type": "code",
      "source": [
        "def findMaxandMin(*numbers):\n",
        "  \"\"\"\n",
        "\n",
        "  Args:\n",
        "    *numbers:\n",
        "\n",
        "  Returns:\n",
        "\n",
        "  \"\"\"\n",
        "\n",
        "  maxNum = numbers[0]\n",
        "  minNum = numbers[0]\n",
        "\n",
        "  for num in numbers[1:]:\n",
        "      if num > maxNum:\n",
        "        maxNum = num\n",
        "      if num < minNum:\n",
        "        minNum = num\n",
        "\n",
        "  return minNum, maxNum\n",
        "\n",
        "numbers = [10, 30, 20, 50, 80, 40, 60]\n",
        "minNum, maxNum = findMaxandMin(*numbers)\n",
        "print(f\"The list of the number: {numbers}\")\n",
        "print(f\"The minimum and maximum number: [{minNum},{maxNum}]\")\n",
        "\n"
      ],
      "metadata": {
        "id": "t-24AVom39FU",
        "colab": {
          "base_uri": "https://localhost:8080/"
        },
        "outputId": "77721144-fa0e-4936-ee5d-4cd21a8783af"
      },
      "execution_count": null,
      "outputs": [
        {
          "output_type": "stream",
          "name": "stdout",
          "text": [
            "The list of the number: [10, 30, 20, 50, 80, 40, 60]\n",
            "The minimum and maximum number: [10,80]\n"
          ]
        }
      ]
    },
    {
      "cell_type": "markdown",
      "source": [
        "**Problem 9**\n",
        "\n",
        "Write a simple Python function that takes a number(n) as a parameter. Then the function prints out the first n rows of Pascal's triangle. Note : Pascal's triangle is an arithmetic and geometric figure first imagined by Blaise Pascal.\n",
        "\n",
        "\n",
        "\n",
        "![pascaltriangle.png](data:image/png;base64,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)"
      ],
      "metadata": {
        "id": "Fz9twS264CYO"
      }
    },
    {
      "cell_type": "code",
      "source": [
        "rowNum = int(input(\"Enter the value for rows:\"))\n",
        "\n",
        "for i in range(rowNum):\n",
        "\n",
        "  print(' '*(rowNum-i), end='')\n",
        "\n",
        "  c = 1\n",
        "  for j in range(0, i+1):\n",
        "    print(c, end=' ')\n",
        "\n",
        "    c = c * (i - j) // (j + 1)\n",
        "  print()"
      ],
      "metadata": {
        "id": "-wbHovdMom2c"
      },
      "execution_count": null,
      "outputs": []
    },
    {
      "cell_type": "markdown",
      "source": [
        "**Problem 10**\n",
        "\n",
        "Write a simple python function that accepts a hyphen-separated sequence of words as parameter and returns the words in a hyphen-separated sequence after sorting them alphabetically.\n",
        "\n",
        "Sample Items : green-red-yellow-black-white\n",
        "\n",
        "Expected Result : black-green-red-white-yellow"
      ],
      "metadata": {
        "id": "_9cMELSZopF2"
      }
    },
    {
      "cell_type": "code",
      "source": [
        "def separatedWords(sequence):\n",
        "\n",
        "  splitWords = sequence.split(\"-\")\n",
        "  splitWords.sort()\n",
        "\n",
        "  return \"-\".join(splitWords)\n",
        "\n",
        "sequence = input(\"Enter a hyphen-separated sequence of words: \")\n",
        "\n",
        "splitWords = separatedWords(sequence)\n",
        "print(\"The result of the sequence: \",splitWords)"
      ],
      "metadata": {
        "id": "8YTu76gepE3D",
        "colab": {
          "base_uri": "https://localhost:8080/"
        },
        "outputId": "c94f0e4f-a50d-41f7-cef1-6193663c4399"
      },
      "execution_count": null,
      "outputs": [
        {
          "output_type": "stream",
          "name": "stdout",
          "text": [
            "Enter a hyphen-separated sequence of words: green-red-yellow-black-white\n",
            "The result of the sequence:  black-green-red-white-yellow\n"
          ]
        }
      ]
    }
  ]
}