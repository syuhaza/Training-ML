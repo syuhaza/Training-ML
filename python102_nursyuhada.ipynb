{
  "nbformat": 4,
  "nbformat_minor": 0,
  "metadata": {
    "colab": {
      "provenance": [],
      "include_colab_link": true
    },
    "kernelspec": {
      "name": "python3",
      "display_name": "Python 3"
    },
    "language_info": {
      "name": "python"
    }
  },
  "cells": [
    {
      "cell_type": "markdown",
      "metadata": {
        "id": "view-in-github",
        "colab_type": "text"
      },
      "source": [
        "<a href=\"https://colab.research.google.com/github/syuhaza/Training-ML/blob/master/python102_nursyuhada.ipynb\" target=\"_parent\"><img src=\"https://colab.research.google.com/assets/colab-badge.svg\" alt=\"Open In Colab\"/></a>"
      ]
    },
    {
      "cell_type": "markdown",
      "source": [
        "# This exercise is to test your knowledge in\n",
        "1. Input/Output functions\n",
        "2. Decision Making"
      ],
      "metadata": {
        "id": "88K4xIYJ2HAZ"
      }
    },
    {
      "cell_type": "markdown",
      "source": [
        "**Exercise 1: Check Even or Odd**\n",
        "\n",
        "Write a Python program that takes an integer as input and checks whether it is even or odd."
      ],
      "metadata": {
        "id": "k0lMUYCZ2s7t"
      }
    },
    {
      "cell_type": "code",
      "source": [
        "x = 3\n",
        "if ((x % 2) == 0):\n",
        "  print(\"The number is even\")\n",
        "else:\n",
        "  print(\"The number is odd\")\n"
      ],
      "metadata": {
        "id": "-b2jsb362QGd",
        "outputId": "66f0da3f-ce76-433d-9ef4-f6f07fd36dec",
        "colab": {
          "base_uri": "https://localhost:8080/"
        }
      },
      "execution_count": null,
      "outputs": [
        {
          "output_type": "stream",
          "name": "stdout",
          "text": [
            "The number is odd\n"
          ]
        }
      ]
    },
    {
      "cell_type": "markdown",
      "source": [
        "**Exercise 2: Grade Evaluation**\n",
        "\n",
        "Write a Python program that takes a score (between 0 and 100) as input and prints the corresponding grade based on the following criteria:\n",
        "\n",
        "A for scores 90 and above\n",
        "\n",
        "B for scores 80-89\n",
        "\n",
        "C for scores 70-79\n",
        "\n",
        "D for scores 60-69\n",
        "\n",
        "F for scores below 60"
      ],
      "metadata": {
        "id": "zXjvrX8c2RE4"
      }
    },
    {
      "cell_type": "code",
      "source": [
        "scores = int(input(\"Enter the scores: \"))\n",
        "\n",
        "if(scores >= 90):\n",
        "  print(\"Grade: A\")\n",
        "elif(scores >= 80 and scores <= 89):\n",
        "  print(\"Grade: B\")\n",
        "elif(scores >= 70 and scores <= 79):\n",
        "  print(\"Grade: C\")\n",
        "elif(scores >= 60 and scores <= 69):\n",
        "  print(\"Grade: D\")\n",
        "elif(scores < 60 ):\n",
        "  print(\"Grade: F\")"
      ],
      "metadata": {
        "id": "S7evNjDH2UMK",
        "outputId": "9aaaf2bf-57c8-4ee6-9581-bafa07d0826a",
        "colab": {
          "base_uri": "https://localhost:8080/"
        }
      },
      "execution_count": null,
      "outputs": [
        {
          "output_type": "stream",
          "name": "stdout",
          "text": [
            "Enter the scores:98\n",
            "Grade: A\n"
          ]
        }
      ]
    },
    {
      "cell_type": "markdown",
      "source": [
        "**Exercise 3: Check Leap Year**\n",
        "\n",
        "Write a Python program that takes a year as input and checks whether it is a leap year."
      ],
      "metadata": {
        "id": "5JvZykyG2VQ_"
      }
    },
    {
      "cell_type": "code",
      "source": [
        "year = int(input(\"Please enter the year: \"))\n",
        "\n",
        "if(year % 4) == 0:\n",
        "  print(\"True. it's a leap year.\")\n",
        "else:\n",
        "  print(\"False. It's not a leap year.\")"
      ],
      "metadata": {
        "id": "f3__sUit2X_t",
        "outputId": "c128354c-56bf-482f-ff11-8fd77fd75b11",
        "colab": {
          "base_uri": "https://localhost:8080/"
        }
      },
      "execution_count": null,
      "outputs": [
        {
          "output_type": "stream",
          "name": "stdout",
          "text": [
            "Please enter the year: 2002\n",
            "It's not a Leap year.\n"
          ]
        }
      ]
    },
    {
      "cell_type": "markdown",
      "source": [
        "**Exercise 4: Number Comparison**\n",
        "\n",
        "Write a program that takes three numbers as input and prints the largest one."
      ],
      "metadata": {
        "id": "VjYxX0Pl2Y5a"
      }
    },
    {
      "cell_type": "code",
      "source": [
        "num1 = int(input(\"Please enter the number: \"))\n",
        "num2 = int(input(\"Please enter the number: \"))\n",
        "num3 = int(input(\"Please enter the number: \"))\n",
        "\n",
        "if(num1 > num2 and num1 > num3):\n",
        "  print(\"The largest number: \",num1)\n",
        "elif(num2 > num1 and num2 > num3):\n",
        "  print(\"The largest number: \",num2)\n",
        "elif(num3 > num1 and num2 < num3):\n",
        "  print(\"The largest number: \",num3)\n",
        "\n"
      ],
      "metadata": {
        "id": "gtjmqjgS2bYu",
        "outputId": "d59424bd-a3cc-4722-d1de-2f3cd8ec77b2",
        "colab": {
          "base_uri": "https://localhost:8080/"
        }
      },
      "execution_count": null,
      "outputs": [
        {
          "output_type": "stream",
          "name": "stdout",
          "text": [
            "Please enter the number: 7\n",
            "Please enter the number: 1\n",
            "Please enter the number: 10\n",
            "The largest number:  10\n"
          ]
        }
      ]
    },
    {
      "cell_type": "markdown",
      "source": [
        "**Exercise 5: Check Vowel or Consonant**\n",
        "\n",
        "Write a Python program that takes a single character as input and checks whether it is a vowel or consonant."
      ],
      "metadata": {
        "id": "hyNTbeMN2cYD"
      }
    },
    {
      "cell_type": "code",
      "source": [
        "character = input(\"Please enter a single character: \")\n",
        "vowels = (\"a\",\"e\",\"o\",\"u\",\"i\")\n",
        "\n",
        "if(character ==\"a\" or character ==\"e\" or character == \"o\"or character ==\"u\" or character ==\"i\"):\n",
        "  print(\"The character is Vowel.\")\n",
        "else:\n",
        "  print(\"The character is Consonant.\")\n"
      ],
      "metadata": {
        "id": "OsNKfn1Y2e4x",
        "outputId": "b6c9c7d1-e882-452c-fd36-29ad585bb355",
        "colab": {
          "base_uri": "https://localhost:8080/"
        }
      },
      "execution_count": null,
      "outputs": [
        {
          "output_type": "stream",
          "name": "stdout",
          "text": [
            "Please enter a single character: b\n",
            "The character is Consonant.\n"
          ]
        }
      ]
    },
    {
      "cell_type": "markdown",
      "source": [
        "**Exercise 6: BMI Calculator**\n",
        "\n",
        "Write a program that calculates the Body Mass Index (BMI) and categorizes it into different weight statuses. The formula for BMI is weight / height^2, where weight is in kilograms and height is in meters.\n",
        "\n",
        "Categories:\n",
        "\n",
        "Underweight: BMI < 18.5\n",
        "\n",
        "Normal weight: 18.5 <= BMI < 24.9\n",
        "\n",
        "Overweight: 25 <= BMI < 29.9\n",
        "\n",
        "Obesity: BMI >= 30"
      ],
      "metadata": {
        "id": "l1JWPAJj93qo"
      }
    },
    {
      "cell_type": "code",
      "source": [
        "weight = float(input(\"Please enter your weight (kg): \"))\n",
        "height = float(input(\"Please enter your height (m):\"))\n",
        "bmi = (weight / height ** 2) * 10000\n",
        "\n",
        "if(bmi < 18.5):\n",
        "  print(\"Your BMI is Underweight.\")\n",
        "elif(bmi >= 18.5 and bmi < 24.9):\n",
        "  print(\"Your BMI is Normal weight.\")\n",
        "elif(25 <= bmi < 29.9):\n",
        "  print(\"Your BMI is Overweight.\")\n",
        "elif(bmi >= 30):\n",
        "  print(\"Your BMI is Obesity.\")\n",
        "\n"
      ],
      "metadata": {
        "id": "2nCyNavu94pg",
        "colab": {
          "base_uri": "https://localhost:8080/"
        },
        "outputId": "982ee64d-6be5-43dc-db11-9365539b340d"
      },
      "execution_count": null,
      "outputs": [
        {
          "output_type": "stream",
          "name": "stdout",
          "text": [
            "Please enter your weight (kg): 65\n",
            "Please enter your height (m):161\n",
            "Your BMI is Overweight.\n"
          ]
        }
      ]
    },
    {
      "cell_type": "markdown",
      "source": [
        "**Exercise 7: Triangle Type Checker**\n",
        "\n",
        "Write a program that takes the lengths of three sides of a triangle and determines whether the triangle is equilateral, isosceles, or scalene.\n",
        "\n",
        "Equilateral: All three sides are equal.\n",
        "\n",
        "Isosceles: Exactly two sides are equal.\n",
        "\n",
        "Scalene: All three sides are different."
      ],
      "metadata": {
        "id": "LU3gswxx-Kys"
      }
    },
    {
      "cell_type": "code",
      "source": [
        "len1 = int(input(\"Please enter the length (cm): \"))\n",
        "len2 = int(input(\"Please enter the length (cm): \"))\n",
        "len3 = int(input(\"Please enter the length (cm): \"))\n",
        "\n",
        "if(len1 == len2 == len3):\n",
        "  print(\"The triangle is Equilateral.\")\n",
        "elif(len1 == len2 or len1 == len3 or len2 == len3):\n",
        "  print(\"The triangle is Isosceles.\")\n",
        "else:\n",
        "  print(\"The triangle is Scalene.\")\n"
      ],
      "metadata": {
        "id": "t9A8jRIE-MXP",
        "colab": {
          "base_uri": "https://localhost:8080/"
        },
        "outputId": "bf28fc81-3bf3-458f-a5f9-7e813254a2ee"
      },
      "execution_count": null,
      "outputs": [
        {
          "output_type": "stream",
          "name": "stdout",
          "text": [
            "Please enter the length (cm): 4\n",
            "Please enter the length (cm): 4\n",
            "Please enter the length (cm): 4\n",
            "The triangle is Equilateral.\n"
          ]
        }
      ]
    },
    {
      "cell_type": "markdown",
      "source": [
        "**Exercise 8: ATM Withdrawal**\n",
        "\n",
        "Write a program that simulates an ATM withdrawal. The user enters the withdrawal amount and the program checks if the amount is a multiple of 10. If it is, the program prints the number of each denomination (50, 20, 10) required to dispense the amount. If not, it prints an error message. For example if the amount is 233 then it must print \"4 50 dollar bills, 1 20 dollar bills, 1 10 dollar bills, 3 1 dollar bills"
      ],
      "metadata": {
        "id": "U3_vgViN-_aG"
      }
    },
    {
      "cell_type": "code",
      "source": [
        "amount = int(input(\"Please enter the withdrawal amount: \"))\n",
        "\n",
        "note50 = amount // 50\n",
        "amount = amount % 50\n",
        "note20 = amount // 20\n",
        "amount = amount % 20\n",
        "note10 = amount // 10\n",
        "amount = amount % 10\n",
        "note1 = amount // 1\n",
        "\n",
        "if((amount % 10) == 0):\n",
        "    print(\"The amount is a multiple of 10.\")\n",
        "    print(\"Total note 50: \",note50)\n",
        "    print(\"Total note 20: \",note20)\n",
        "    print(\"Total note 20: \",note10)\n",
        "    print(\"Total note 20: \",note1)\n",
        "else:\n",
        "    print(\"Error amount withdrawal.\")"
      ],
      "metadata": {
        "id": "VxMVFFjv_Dwc"
      },
      "execution_count": null,
      "outputs": []
    },
    {
      "cell_type": "markdown",
      "source": [
        "**Exercise 9: Adam Number**\n",
        "\n",
        "Write a Python program to check whether a given number is an Adam number.\n",
        "\n",
        "An Adam number is a number for which the square of the number and the square of its reverse are themselves reverses of each other. In other words, if you take a number, reverse it, square both the original number and the reversed number, and the results are still reverse of each other, then the original number is called an Adam number."
      ],
      "metadata": {
        "id": "uQKP9hMA2ksS"
      }
    },
    {
      "cell_type": "code",
      "source": [
        "num = int(input(\"Please enter a 2-digit number: \"))\n",
        "\n",
        "rev = num % 10\n",
        "num //= 10\n",
        "rev = rev * 10 +(num % 10)\n",
        "\n",
        "num_square = num ** 2\n",
        "rev_square = rev ** 2\n",
        "\n",
        "rev_square2 = rev_square % 10\n",
        "rev_square //= 10\n",
        "rev_square2 = rev_square2 * 10 +(rev_square % 10)\n",
        "rev_square //= 10\n",
        "rev_square2 = rev_square2 * 10 +(rev_square % 10)\n",
        "\n",
        "if(rev_square2 == num_square):\n",
        "  print( num, \"is Adam Number.\")\n",
        "else:\n",
        "  print( num, \"is not Adam Number.\")\n",
        "\n",
        "\n",
        "\n",
        "\n"
      ],
      "metadata": {
        "id": "-03LSJtR4e_8"
      },
      "execution_count": null,
      "outputs": []
    },
    {
      "cell_type": "markdown",
      "source": [
        "**Exercise 10: Armstrong Number**\n",
        "\n",
        "Write a Python program to check whether a given number is an Armstrong number.\n",
        "\n",
        "An Armstrong number (also known as a Narcissistic number or a Pluperfect number) is a number that is equal to the sum of its own digits each raised to the power of the number of digits. For example, 153 is an Armstrong number because 1 ** 3 + 5 ** 3 + 3 ** 3 = 153"
      ],
      "metadata": {
        "id": "qTSAl9Hw4iiL"
      }
    },
    {
      "cell_type": "code",
      "source": [
        "num = int(input(\"Please enter a 3-digit number: \"))\n",
        "\n",
        "sum_of_powers = 0\n",
        "numb = num\n",
        "numStr = str(num)\n",
        "num_digits = len(numStr)\n",
        "\n",
        "#for three digits\n",
        "digit = numb % 10 #3\n",
        "numb = numb//10 #15\n",
        "sum_of_powers += digit ** num_digits\n",
        "digit = numb % 10 # 5\n",
        "numb = numb//10 #1\n",
        "sum_of_powers += digit ** num_digits\n",
        "digit = numb % 10\n",
        "numb = numb//10\n",
        "sum_of_powers += digit ** num_digits\n",
        "\n",
        "\n",
        "if num == sum_of_powers:\n",
        "      print(num, \"is Armstrong number.\")\n",
        "else:\n",
        "      print(num, \"is not Armstrong number.\")"
      ],
      "metadata": {
        "id": "JSsnmqY64k4D",
        "colab": {
          "base_uri": "https://localhost:8080/"
        },
        "outputId": "3798d1f8-6ec4-4b1e-c64f-b269a4a8b142"
      },
      "execution_count": null,
      "outputs": [
        {
          "output_type": "stream",
          "name": "stdout",
          "text": [
            "Please enter a 3-digit number: 153\n",
            "153 is Armstrong number.\n"
          ]
        }
      ]
    }
  ]
}