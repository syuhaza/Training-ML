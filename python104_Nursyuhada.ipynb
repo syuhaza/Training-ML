{
  "nbformat": 4,
  "nbformat_minor": 0,
  "metadata": {
    "colab": {
      "provenance": [],
      "include_colab_link": true
    },
    "kernelspec": {
      "name": "python3",
      "display_name": "Python 3"
    },
    "language_info": {
      "name": "python"
    }
  },
  "cells": [
    {
      "cell_type": "markdown",
      "metadata": {
        "id": "view-in-github",
        "colab_type": "text"
      },
      "source": [
        "<a href=\"https://colab.research.google.com/github/syuhaza/Training-ML/blob/master/python104_Nursyuhada.ipynb\" target=\"_parent\"><img src=\"https://colab.research.google.com/assets/colab-badge.svg\" alt=\"Open In Colab\"/></a>"
      ]
    },
    {
      "cell_type": "markdown",
      "source": [
        "**Problem 1**\n",
        "\n",
        "Print first 10 natural numbers using while loop"
      ],
      "metadata": {
        "id": "NUBr3r3Er9Ub"
      }
    },
    {
      "cell_type": "code",
      "execution_count": null,
      "metadata": {
        "id": "J-YS3jigr6bo",
        "colab": {
          "base_uri": "https://localhost:8080/"
        },
        "outputId": "9a3f7a7e-b6ef-45dc-fcac-0c2d50d11cbc"
      },
      "outputs": [
        {
          "output_type": "stream",
          "name": "stdout",
          "text": [
            "1\n",
            "2\n",
            "3\n",
            "4\n",
            "5\n",
            "6\n",
            "7\n",
            "8\n",
            "9\n",
            "10\n"
          ]
        }
      ],
      "source": [
        "a = 0\n",
        "while a < 10:\n",
        "  a += 1\n",
        "  print(a)"
      ]
    },
    {
      "cell_type": "markdown",
      "source": [
        "**Problem 2**\n",
        "\n",
        "Print first 10 prime numbers using for loop"
      ],
      "metadata": {
        "id": "VSmefGGDsDr0"
      }
    },
    {
      "cell_type": "code",
      "source": [
        "count = 10\n",
        "# print(1, end=\" \")\n",
        "for a in range(2,60):\n",
        "    isPrime =True\n",
        "    for i in range(2,a):\n",
        "        if(a%i==0):\n",
        "            isPrime = False\n",
        "            break\n",
        "    if(isPrime == True):\n",
        "        print(a,end=\" \")\n",
        "        count = count - 1\n",
        "    if count == 0:\n",
        "      break"
      ],
      "metadata": {
        "id": "xnXhQAK7sMRY",
        "colab": {
          "base_uri": "https://localhost:8080/"
        },
        "outputId": "4442aedd-e87b-4f41-a9fd-7c6ef8175de1"
      },
      "execution_count": null,
      "outputs": [
        {
          "output_type": "stream",
          "name": "stdout",
          "text": [
            "2 3 5 7 11 13 17 19 23 29 "
          ]
        }
      ]
    },
    {
      "cell_type": "markdown",
      "source": [
        "**Problem 3**\n",
        "\n",
        "Get number of items as input and generate that many ADAM Numbers"
      ],
      "metadata": {
        "id": "9TXi2WCNsNTg"
      }
    },
    {
      "cell_type": "code",
      "source": [
        "num = int(input(\"Please enter a number: \"))\n",
        "\n",
        "adam_numbers = []\n",
        "number = 1\n",
        "\n",
        "while len(adam_numbers) < num:\n",
        "      square_num = number * number\n",
        "      rev_num = int(str(number)[::-1])\n",
        "\n",
        "      square_rev = rev_num * rev_num\n",
        "\n",
        "      if square_rev == int(str(square_num)[::-1]):\n",
        "        adam_numbers = adam_numbers + [number]\n",
        "      number += 1\n",
        "\n",
        "print(f\"The first {num} Adam number: {adam_numbers}\")\n",
        "\n",
        "\n"
      ],
      "metadata": {
        "id": "F7fhGKvxsRyk",
        "colab": {
          "base_uri": "https://localhost:8080/"
        },
        "outputId": "cff926b5-d66c-4d0e-9d89-3579048ca818"
      },
      "execution_count": null,
      "outputs": [
        {
          "output_type": "stream",
          "name": "stdout",
          "text": [
            "Please enter a number: 7\n",
            "The first 7 Adam number: [1, 2, 3, 10, 11, 12, 13]\n"
          ]
        }
      ]
    },
    {
      "cell_type": "markdown",
      "source": [
        "**Problem 4**\n",
        "\n",
        "Get number of items as input and generate that many Armstrong Numbers"
      ],
      "metadata": {
        "id": "1NtR4H83sWRd"
      }
    },
    {
      "cell_type": "code",
      "source": [
        "num = int(input(\"Please enter a number: \"))\n",
        "\n",
        "armstrong_numbers = []\n",
        "number = 1\n",
        "\n",
        "while len(armstrong_numbers) < num:\n",
        "    sum_of_powers = 0\n",
        "    num_digits = number\n",
        "\n",
        "    digit = num_digits % 10\n",
        "    sum_of_powers += digit ** 3\n",
        "    num_digits //= 10\n",
        "\n",
        "    if number == sum_of_powers:\n",
        "        armstrong_numbers = armstrong_numbers + [number]\n",
        "    number += 1\n",
        "\n",
        "print(f\"The first {num} Armstrong number: {armstrong_numbers}\")\n"
      ],
      "metadata": {
        "id": "kTHyEZhosohS",
        "colab": {
          "base_uri": "https://localhost:8080/"
        },
        "outputId": "d484689f-9564-430d-fd03-75a77eb0b279"
      },
      "execution_count": null,
      "outputs": [
        {
          "output_type": "stream",
          "name": "stdout",
          "text": [
            "Please enter a number: 5\n",
            "The first 5 Armstrong number: [1, 64, 125, 216, 729]\n"
          ]
        }
      ]
    },
    {
      "cell_type": "markdown",
      "source": [
        "**Problem 5**\n",
        "\n",
        "Write a program to print the following pattern using a loop.\n",
        "\n",
        "o\n",
        "\n",
        "oo\n",
        "\n",
        "ooo\n",
        "\n",
        "oooo\n",
        "\n",
        "ooooo"
      ],
      "metadata": {
        "id": "YSye6ju2s4Rd"
      }
    },
    {
      "cell_type": "code",
      "source": [
        "for a in range(0, 5):\n",
        "    for b in range(0, a + 1):\n",
        "      print(\"o\", end=\"\")\n",
        "    print()"
      ],
      "metadata": {
        "id": "UY1ml3TotBI7",
        "colab": {
          "base_uri": "https://localhost:8080/"
        },
        "outputId": "86a9e7dd-d524-4560-d277-d96ddb60b1f3"
      },
      "execution_count": null,
      "outputs": [
        {
          "output_type": "stream",
          "name": "stdout",
          "text": [
            "o\n",
            "oo\n",
            "ooo\n",
            "oooo\n",
            "ooooo\n"
          ]
        }
      ]
    },
    {
      "cell_type": "markdown",
      "source": [
        "**Problem 6**\n",
        "\n",
        "Write a program to print the following pattern using a loop\n",
        "\n",
        "1\n",
        "\n",
        "1 2\n",
        "\n",
        "1 2 3\n",
        "\n",
        "1 2 3 4\n",
        "\n",
        "1 2 3 4 5"
      ],
      "metadata": {
        "id": "1SkSXbQbtUEW"
      }
    },
    {
      "cell_type": "code",
      "source": [
        "for a in range(0, 5):\n",
        "    for b in range(0, a + 1):\n",
        "      b += 1\n",
        "      print(f\"{b} \", end=\"\")\n",
        "    print()"
      ],
      "metadata": {
        "id": "tRDo_Wa7tfpE",
        "colab": {
          "base_uri": "https://localhost:8080/"
        },
        "outputId": "c59caf9a-241c-4f5a-d27f-b46dd57cdaa9"
      },
      "execution_count": null,
      "outputs": [
        {
          "output_type": "stream",
          "name": "stdout",
          "text": [
            "1 \n",
            "1 2 \n",
            "1 2 3 \n",
            "1 2 3 4 \n",
            "1 2 3 4 5 \n"
          ]
        }
      ]
    },
    {
      "cell_type": "markdown",
      "source": [
        "**Problem 7**\n",
        "\n",
        "Get a number as input and calculate the sum of all numbers from 1 to the given number."
      ],
      "metadata": {
        "id": "WWKQLhpptmeb"
      }
    },
    {
      "cell_type": "code",
      "source": [
        "num = int(input(\"Please enter the number: \"))\n",
        "\n",
        "totalSum = 0\n",
        "for a in range(1, num + 1):\n",
        "    totalSum += a\n",
        "print(totalSum)\n"
      ],
      "metadata": {
        "id": "ps0pUcEDtzkb",
        "colab": {
          "base_uri": "https://localhost:8080/"
        },
        "outputId": "e1684379-0a2b-447d-a8b2-b2613a7e9985"
      },
      "execution_count": null,
      "outputs": [
        {
          "output_type": "stream",
          "name": "stdout",
          "text": [
            "Please enter the number: 6\n",
            "21\n"
          ]
        }
      ]
    },
    {
      "cell_type": "markdown",
      "source": [
        "**Problem 8**\n",
        "\n",
        "Write a python program that takes few numbers as command line argument. Use a loop to display all elements. Use another loop to display all elements in the even position. Use another loop to display all elements in the odd position."
      ],
      "metadata": {
        "id": "S4OA1NOB1EBt"
      }
    },
    {
      "cell_type": "code",
      "source": [
        "import sys\n",
        "\n",
        "numbers = sys.argv\n",
        "print(numbers)\n",
        "\n",
        "print(\"Display all elements: \")\n",
        "for number in numbers:\n",
        "    print(number, end=' ')\n",
        "print()\n",
        "\n",
        "print(\"Elements in even positions: \")\n",
        "for i in range(len(numbers)):\n",
        "    if i % 2 == 0:\n",
        "        print(numbers[i], end=' ')\n",
        "print()\n",
        "\n",
        "print(\"Elements in odd positions: \")\n",
        "for i in range(len(numbers)):\n",
        "    if i % 2 != 0:\n",
        "        print(numbers[i], end=' ')\n",
        "print()"
      ],
      "metadata": {
        "id": "3bGUGiBm5Ab-"
      },
      "execution_count": null,
      "outputs": []
    },
    {
      "cell_type": "markdown",
      "source": [
        "**Problem 9**\n",
        "\n",
        "Write a python program that takes few numbers as command line argument. Find the average of those numbers."
      ],
      "metadata": {
        "id": "DAgEW9F75Jf2"
      }
    },
    {
      "cell_type": "code",
      "source": [
        "import sys\n",
        "\n",
        "cmdarguments = sys.argv [1:]\n",
        "print(cmdarguments)\n",
        "\n",
        "totalSum = 0\n",
        "for number in cmdarguments:\n",
        "    totalSum = totalSum + int(number)\n",
        "\n",
        "average = totalSum / len(cmdarguments)\n",
        "\n",
        "print(f\"Average of the numbers is: {average:.2f}\")"
      ],
      "metadata": {
        "id": "p_MV-MR_5Tfi"
      },
      "execution_count": null,
      "outputs": []
    },
    {
      "cell_type": "markdown",
      "source": [
        "**Problem 10**\n",
        "\n",
        "Write a Python program that takes a string as input, which contains numbers separated by commas. Convert the string to a list of numbers and determine whether all the numbers are different from each other."
      ],
      "metadata": {
        "id": "rZP_eg_XuKwO"
      }
    },
    {
      "cell_type": "code",
      "source": [
        "strInput = input(\"Enter numbers separated by commas: \")\n",
        "\n",
        "numbers = strInput.split(\",\")\n",
        "print(numbers)\n",
        "\n",
        "result = True\n",
        "for a in range(len(numbers)):\n",
        "    for b in range(a+1, len(numbers)):\n",
        "        if numbers[a] == numbers[b]:\n",
        "            result = False\n",
        "            break\n",
        "    if not result:\n",
        "      break\n",
        "\n",
        "if result:\n",
        "  print(\"The numbers are different\")\n",
        "else:\n",
        "  print(\"The numbers have duplicate\")\n"
      ],
      "metadata": {
        "id": "Mju8O4-wuuKX",
        "colab": {
          "base_uri": "https://localhost:8080/"
        },
        "outputId": "a9cf0611-32b7-4239-874d-03d77e5d8ff6"
      },
      "execution_count": null,
      "outputs": [
        {
          "output_type": "stream",
          "name": "stdout",
          "text": [
            "Enter numbers separated by commas: 1,2,2,3\n",
            "['1', '2', '2', '3']\n",
            "The numbers have duplicate\n"
          ]
        }
      ]
    },
    {
      "cell_type": "markdown",
      "source": [
        "**Problem 11**\n",
        "\n",
        "Write a Python program that takes a string as input, which contains numbers separated by commas. Convert the string to a list of numbers. Now pick 3 unique numbers from the list whose sum is 100."
      ],
      "metadata": {
        "id": "KgTnX2_eu6l1"
      }
    },
    {
      "cell_type": "code",
      "source": [
        "numList = input()\n",
        "\n",
        "olderList = numList.split(\",\")\n",
        "newList = []\n",
        "\n",
        "for i in olderList:\n",
        "    if i in newList:\n",
        "        continue\n",
        "    elif i not in newList:\n",
        "        newList.append(i)\n",
        "\n",
        "for a in range(len(newList)):\n",
        "  for b in range(a+1, len(newList)):\n",
        "    for c in range(b+1, len(newList)):\n",
        "              num1 = int(newList[a])\n",
        "              num2 = int(newList[b])\n",
        "              num3 = int(newList[c])\n",
        "\n",
        "              if (num1 + num2 + num3) == 100 and len({num1, num2, num3}):\n",
        "                print(\"The three unique numbers from the list whose sum 100: \",num1, \",\", num2,\",\",num3)\n",
        "              else:\n",
        "                print(\"From the list, there is no number can be sum 100.\")\n",
        "\n"
      ],
      "metadata": {
        "id": "RzBHYSKpzY6p",
        "colab": {
          "base_uri": "https://localhost:8080/"
        },
        "outputId": "943fc013-3c08-4cad-e77b-b84eb26e400b"
      },
      "execution_count": null,
      "outputs": [
        {
          "output_type": "stream",
          "name": "stdout",
          "text": [
            "15,60,45\n",
            "From the list, there is no number can be sum 100.\n"
          ]
        }
      ]
    },
    {
      "cell_type": "markdown",
      "source": [
        "**Problem 12**\n",
        "\n",
        "Write a Python program to get 2 positive numbers as input and multiply them without using the '*' operator."
      ],
      "metadata": {
        "id": "6tRt53BBz25I"
      }
    },
    {
      "cell_type": "code",
      "source": [
        "num1 = int(input(\"Please enter the first number: \"))\n",
        "num2 = int(input(\"Please enter the second number: \"))\n",
        "\n",
        "result = 0\n",
        "for i in range((num2)):\n",
        "  result = result + num1\n",
        "  if(num1 < 0 and num2 > 0) or (num1 > 0 and num2 < 0):\n",
        "    result = - result\n",
        "\n",
        "print(f\"The product of {num1} and {num2} is: {result}\")"
      ],
      "metadata": {
        "id": "5WIRg5fw0Fi5",
        "colab": {
          "base_uri": "https://localhost:8080/"
        },
        "outputId": "24a41cb3-ea32-4d40-f209-9e05b8429eb8"
      },
      "execution_count": null,
      "outputs": [
        {
          "output_type": "stream",
          "name": "stdout",
          "text": [
            "Please enter the first number: 3\n",
            "Please enter the second number: 2\n",
            "The product of 3 and 2 is: 6\n"
          ]
        }
      ]
    },
    {
      "cell_type": "markdown",
      "source": [
        "**Problem 13**\n",
        "\n",
        "Write a python program to print first 10 terms in a Fibonacci series"
      ],
      "metadata": {
        "id": "EnXIYV3B0vEi"
      }
    },
    {
      "cell_type": "code",
      "source": [
        "a = 0\n",
        "b = 1\n",
        "\n",
        "print(a)\n",
        "print(b)\n",
        "\n",
        "for i in range(8):\n",
        "  c = a + b\n",
        "  print(c)\n",
        "  a, b = b, c\n"
      ],
      "metadata": {
        "id": "SXHLhERV0xDG",
        "colab": {
          "base_uri": "https://localhost:8080/"
        },
        "outputId": "d46051a2-fdc5-4210-d711-bdee9c9c2e98"
      },
      "execution_count": null,
      "outputs": [
        {
          "output_type": "stream",
          "name": "stdout",
          "text": [
            "0\n",
            "1\n",
            "1\n",
            "2\n",
            "3\n",
            "5\n",
            "8\n",
            "13\n",
            "21\n",
            "34\n"
          ]
        }
      ]
    },
    {
      "cell_type": "markdown",
      "source": [
        "**Problem 14**\n",
        "\n",
        "Write a python program which takes a number as input and convert the number to binary. Note: Don't use any builtin functions."
      ],
      "metadata": {
        "id": "UvfmEmtZ6_EW"
      }
    },
    {
      "cell_type": "code",
      "source": [
        "num = int(input(\"Please enter a number: \"))\n",
        "\n",
        "r1 = ' '\n",
        "while num > 0:\n",
        "    r1 = str(num % 2) + r1\n",
        "    num = num // 2\n",
        "\n",
        "print(f\"The converted number to binary: {r1}\")"
      ],
      "metadata": {
        "id": "f2YG9RqB7-M9",
        "colab": {
          "base_uri": "https://localhost:8080/"
        },
        "outputId": "e67bcd3a-a427-4207-fe2c-6b1181f57d53"
      },
      "execution_count": null,
      "outputs": [
        {
          "output_type": "stream",
          "name": "stdout",
          "text": [
            "Please enter a number: 12\n",
            "The converted number to binary: 1100 \n"
          ]
        }
      ]
    },
    {
      "cell_type": "markdown",
      "source": [
        "**Problem 15**\n",
        "\n",
        "Write a python program which takes a binary number as input and convert the number to decimal. Note: Don't use any builtin functions."
      ],
      "metadata": {
        "id": "mRHDuUD27_E-"
      }
    },
    {
      "cell_type": "code",
      "source": [
        "num = input(\"Please enter a binary number: \")\n",
        "\n",
        "pow = 0\n",
        "decimal = 0\n",
        "\n",
        "for numb in num[::-1]:\n",
        "    if numb == '1':\n",
        "      decimal += 2**pow\n",
        "    pow += 1\n",
        "\n",
        "print(f\"The converted binary to decimal: {decimal}\")"
      ],
      "metadata": {
        "id": "9jMTZf7e8MHK",
        "colab": {
          "base_uri": "https://localhost:8080/"
        },
        "outputId": "a862bc99-0745-4e1c-9088-0a2310bb19fa"
      },
      "execution_count": null,
      "outputs": [
        {
          "output_type": "stream",
          "name": "stdout",
          "text": [
            "Please enter a binary number: 1100\n",
            "The converted binary to decimal: 12\n"
          ]
        }
      ]
    }
  ]
}