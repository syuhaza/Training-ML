{
  "nbformat": 4,
  "nbformat_minor": 0,
  "metadata": {
    "colab": {
      "provenance": [],
      "include_colab_link": true
    },
    "kernelspec": {
      "name": "python3",
      "display_name": "Python 3"
    },
    "language_info": {
      "name": "python"
    }
  },
  "cells": [
    {
      "cell_type": "markdown",
      "metadata": {
        "id": "view-in-github",
        "colab_type": "text"
      },
      "source": [
        "<a href=\"https://colab.research.google.com/github/syuhaza/Training-ML/blob/master/python101_nursyuhada.ipynb\" target=\"_parent\"><img src=\"https://colab.research.google.com/assets/colab-badge.svg\" alt=\"Open In Colab\"/></a>"
      ]
    },
    {
      "cell_type": "markdown",
      "source": [
        "# This exercise is to test your knowledge in\n",
        "1. Input/Output functions\n",
        "2. Variables and Literals\n",
        "3. Assignment Operators\n",
        "4. Arithmetic Operators"
      ],
      "metadata": {
        "id": "88K4xIYJ2HAZ"
      }
    },
    {
      "cell_type": "markdown",
      "source": [
        "**Exercise 1: Basic Arithmetic Operations**\n",
        "\n",
        "Write a Python program that does the following:\n",
        "\n",
        "Prompts the user to enter two numbers.\n",
        "Stores these numbers in two variables.\n",
        "Performs and prints the results of addition, subtraction, multiplication, and division of these two numbers."
      ],
      "metadata": {
        "id": "k0lMUYCZ2s7t"
      }
    },
    {
      "cell_type": "code",
      "source": [
        "firstNumber = input(\"Please enter the first number: \")\n",
        "secNumber = input(\"Please enter the second number: \")\n",
        "\n",
        "print(\"Result of addition: \", int(firstNumber) + int(secNumber))\n",
        "print(\"Result of subtraction: \", int(firstNumber) - int(secNumber))\n",
        "print(\"Result of multiplication: \", int(firstNumber) * int(secNumber))\n",
        "print(\"Result of division: \", int(firstNumber) / int(secNumber))\n"
      ],
      "metadata": {
        "id": "-b2jsb362QGd",
        "colab": {
          "base_uri": "https://localhost:8080/"
        },
        "outputId": "e3966709-8344-49c9-e111-d21050a0e7a3"
      },
      "execution_count": null,
      "outputs": [
        {
          "output_type": "stream",
          "name": "stdout",
          "text": [
            "Please enter the first number: 6\n",
            "Please enter the second number: 3\n",
            "Result of addition:  9\n",
            "Result of subtraction:  3\n",
            "Result of multiplication:  18\n",
            "Result of division:  2.0\n"
          ]
        }
      ]
    },
    {
      "cell_type": "markdown",
      "source": [
        "**Exercise 2: Temperature Converter**\n",
        "\n",
        "Write a Python program that:\n",
        "\n",
        "Prompts the user to enter a temperature in Celsius.\n",
        "Converts the temperature to Fahrenheit.\n",
        "Prints the temperature in Fahrenheit.\n",
        "(Hint: The formula to convert Celsius to Fahrenheit is: F = C * 9/5 + 32)"
      ],
      "metadata": {
        "id": "zXjvrX8c2RE4"
      }
    },
    {
      "cell_type": "code",
      "source": [
        "celsi = input(\"Enter a temperature (Celsius): \")\n",
        "fahre = float(celsi) * (9/5) + 32\n",
        "print(\"The temperature in Fahrenheit: \", fahre)"
      ],
      "metadata": {
        "id": "S7evNjDH2UMK",
        "colab": {
          "base_uri": "https://localhost:8080/"
        },
        "outputId": "a9f470e5-ae37-4957-98b8-f986def1046e"
      },
      "execution_count": null,
      "outputs": [
        {
          "output_type": "stream",
          "name": "stdout",
          "text": [
            "Enter a temperature (Celsius): 32\n",
            "The temperature in Fahrenheit:  89.6\n"
          ]
        }
      ]
    },
    {
      "cell_type": "markdown",
      "source": [
        "**Exercise 3: Area and Perimeter of a Rectangle**\n",
        "\n",
        "Write a Python program that:\n",
        "\n",
        "Prompts the user to enter the length and width of a rectangle.\n",
        "Calculates the area and perimeter of the rectangle.\n",
        "Prints the area and perimeter."
      ],
      "metadata": {
        "id": "5JvZykyG2VQ_"
      }
    },
    {
      "cell_type": "code",
      "source": [
        "len = input(\"Please enter the length: \")\n",
        "width = input(\"Please enter the width: \")\n",
        "areaRec = int(len) * int(width)\n",
        "periRec = 2 * (int(len) + int(width))\n",
        "print(\"The area of the Rectangle: \", areaRec)\n",
        "print(\"The perimeter of the Rectangle: \", periRec)"
      ],
      "metadata": {
        "id": "f3__sUit2X_t",
        "colab": {
          "base_uri": "https://localhost:8080/"
        },
        "outputId": "9cd77f9c-6953-41db-ac23-67886a373c27"
      },
      "execution_count": null,
      "outputs": [
        {
          "output_type": "stream",
          "name": "stdout",
          "text": [
            "Please enter the length: 4\n",
            "Please enter the width: 6\n",
            "The area of the Rectangle:  24\n",
            "The perimeter of the Rectangle:  20\n"
          ]
        }
      ]
    },
    {
      "cell_type": "markdown",
      "source": [
        "**Exercise 4: Simple Interest Calculator**\n",
        "\n",
        "Write a Python program that:\n",
        "\n",
        "Prompts the user to enter the principal amount, rate of interest, and time in years.\n",
        "Calculates the simple interest.\n",
        "Prints the simple interest.\n",
        "(Hint: The formula to calculate simple interest is: SI = (P * R * T) / 100)"
      ],
      "metadata": {
        "id": "VjYxX0Pl2Y5a"
      }
    },
    {
      "cell_type": "code",
      "source": [
        "principal = input(\"Please enter the Principal Amount (RM): \")\n",
        "rate = input(\"Please enter the Rate of Interest (%): \")\n",
        "time = input(\"Please enter the time (years): \")\n",
        "interest = (float(principal) * float(rate) * int(time)) / 100\n",
        "\n",
        "print(\"The interest earned (RM): RM \", interest)"
      ],
      "metadata": {
        "id": "gtjmqjgS2bYu",
        "colab": {
          "base_uri": "https://localhost:8080/"
        },
        "outputId": "22a06d71-a623-4e0e-fed3-592eb96f9b15"
      },
      "execution_count": null,
      "outputs": [
        {
          "output_type": "stream",
          "name": "stdout",
          "text": [
            "Please enter the Principal Amount (RM): 20000\n",
            "Please enter the Rate of Interest (%): 11\n",
            "Please enter the time (years): 12\n",
            "The interest earned (RM): RM  26400.0\n"
          ]
        }
      ]
    },
    {
      "cell_type": "markdown",
      "source": [
        "**Exercise 5: Swapping Two Variables**\n",
        "\n",
        "Write a Python program that:\n",
        "\n",
        "Prompts the user to enter two numbers.\n",
        "Swaps the values of the two variables.\n",
        "Prints the values before and after swapping."
      ],
      "metadata": {
        "id": "hyNTbeMN2cYD"
      }
    },
    {
      "cell_type": "code",
      "source": [
        "number1 = input(\"Please enter the first number: \")\n",
        "number2 = input(\"Please enter the second number: \")\n",
        "print(\" \")\n",
        "print(\"Before swap the number \")\n",
        "print(\"First number: \", number1)\n",
        "print(\"Second number: \", number2)\n",
        "\n",
        "\n",
        "number1, number2 = number2, number1\n",
        "\n",
        "print(\" \")\n",
        "print(\"After swap the number \")\n",
        "print(\"First number: \", number1)\n",
        "print(\"Second number: \", number2)"
      ],
      "metadata": {
        "id": "OsNKfn1Y2e4x",
        "colab": {
          "base_uri": "https://localhost:8080/"
        },
        "outputId": "367c6d47-d709-48ce-88f3-881fa8086da3"
      },
      "execution_count": null,
      "outputs": [
        {
          "output_type": "stream",
          "name": "stdout",
          "text": [
            "Please enter the first number: 4\n",
            "Please enter the second number: 6\n",
            "Before swap the number \n",
            "First number:  4\n",
            "Second number:  6\n",
            " \n",
            "After swap the number \n",
            "First number:  6\n",
            "Second number:  4\n"
          ]
        }
      ]
    },
    {
      "cell_type": "markdown",
      "source": [
        "**Exercise 6: Square and Cube**\n",
        "\n",
        "Write a Python program that:\n",
        "\n",
        "Prompts the user to enter a number.\n",
        "Calculates the square and cube of the number.\n",
        "Prints the square and cube.\n",
        "\n",
        "\n",
        "\n",
        "\n",
        "\n"
      ],
      "metadata": {
        "id": "uQKP9hMA2ksS"
      }
    },
    {
      "cell_type": "code",
      "source": [
        "num1 = input(\"Please enter the number: \")\n",
        "square = int(num1) * 2\n",
        "cube = int(num1) ** 3\n",
        "print(\"Square: \", square)\n",
        "print(\"Cube: \", cube)\n"
      ],
      "metadata": {
        "id": "-03LSJtR4e_8",
        "colab": {
          "base_uri": "https://localhost:8080/"
        },
        "outputId": "0cfe1e1c-1e87-4b23-def7-123f17e394ab"
      },
      "execution_count": null,
      "outputs": [
        {
          "output_type": "stream",
          "name": "stdout",
          "text": [
            "Please enter the number: 4\n",
            "Square:  8\n",
            "Cube:  64\n"
          ]
        }
      ]
    },
    {
      "cell_type": "markdown",
      "source": [
        "**Exercise 7: Calculate BMI**\n",
        "\n",
        "Write a Python program that:\n",
        "\n",
        "Prompts the user to enter their weight in kilograms and height in meters.\n",
        "Calculates the Body Mass Index (BMI).\n",
        "Prints the BMI.\n",
        "(Hint: The formula to calculate BMI is: BMI = weight / (height * height))\n"
      ],
      "metadata": {
        "id": "qTSAl9Hw4iiL"
      }
    },
    {
      "cell_type": "code",
      "source": [
        "height = input(\"Please enter your height (m): \")\n",
        "weight = input(\"Please enter your weight (kg): \")\n",
        "bmi = (float(weight) / (float(height) * float(height))) * 10000\n",
        "\n",
        "print(\"Your BMI is: \", \"%.2f\"%bmi)"
      ],
      "metadata": {
        "id": "JSsnmqY64k4D",
        "colab": {
          "base_uri": "https://localhost:8080/"
        },
        "outputId": "6fee4641-a95e-441b-f737-76fb5ced10fa"
      },
      "execution_count": null,
      "outputs": [
        {
          "output_type": "stream",
          "name": "stdout",
          "text": [
            "Please enter your height (m): 161\n",
            "Please enter your weight (kg): 50\n",
            "Your BMI is:  19.29\n"
          ]
        }
      ]
    },
    {
      "cell_type": "markdown",
      "source": [
        "**Exercise 8: Compound Interest Calculator**\n",
        "\n",
        "Write a Python program that:\n",
        "\n",
        "Prompts the user to enter the principal amount, rate of interest, time in years, and number of times interest is compounded per year. Calculates the compound interest. Prints the compound interest.\n",
        "\n",
        "(Hint: The formula to calculate compound interest is:\n",
        "**A=P(1+R/100n)nt**\n",
        "where\n",
        "A is the amount,\n",
        "P is the principal amount,\n",
        "R is the annual interest rate,\n",
        "t is the time the money is invested for, and\n",
        "n is the number of times interest is compounded per year)"
      ],
      "metadata": {
        "id": "iafLGivo4nJ9"
      }
    },
    {
      "cell_type": "code",
      "source": [
        "principal = input(\"Please enter the Principal Amount (RM): \")\n",
        "rate = input(\"Please enter the Rate of Interest (%): \")\n",
        "time = input(\"Please enter the time (years): \")\n",
        "numTimes = input(\"Please enter the number of time interest (per year): \")\n",
        "\n",
        "finalAmount = float(principal) * (((1 + float(rate))/  (100 * int(numTimes))) ** (int(time)*int(numTimes)))\n",
        "\n",
        "print(\"The compound of the interest: \", finalAmount)"
      ],
      "metadata": {
        "id": "JsCzUxG25260",
        "colab": {
          "base_uri": "https://localhost:8080/"
        },
        "outputId": "ad093a2e-bf3d-448b-e95b-33cf6789db08"
      },
      "execution_count": null,
      "outputs": [
        {
          "output_type": "stream",
          "name": "stdout",
          "text": [
            "Please enter the Principal Amount (RM): 1000\n",
            "Please enter the Rate of Interest (%): 5\n",
            "Please enter the time (years): 10\n",
            "Please enter the number of time interest (per year): 4\n",
            "The compound of the interest:  1.1057332320939997e-70\n"
          ]
        }
      ]
    },
    {
      "cell_type": "markdown",
      "source": [
        "**Exercise 9: Convert 97409 to Binary**\n",
        "\n",
        "Write a Python program that:\n",
        "\n",
        "Converts the given integer 97409 to its binary representation.\n",
        "Prints the binary representation."
      ],
      "metadata": {
        "id": "ddxP9dXd6Kat"
      }
    },
    {
      "cell_type": "code",
      "source": [
        "n = 97409\n",
        "\n",
        "r1 = n % 2\n",
        "r2 = n // 2\n",
        "\n",
        "r3 = r2 % 2\n",
        "r4 = r2 // 2\n",
        "\n",
        "r5 = r4 % 2\n",
        "r6 = r4 // 2\n",
        "\n",
        "r7 = r6 % 2\n",
        "r8 = r6 // 2\n",
        "\n",
        "r9 = r8 % 2\n",
        "r10 = r8 // 2\n",
        "\n",
        "r11 = r10 % 2\n",
        "r12 = r10 // 2\n",
        "\n",
        "r13 = r12 % 2\n",
        "r14 = r12 // 2\n",
        "\n",
        "r15 = r14 % 2\n",
        "r16 = r14 // 2\n",
        "\n",
        "r17 = r16 % 2\n",
        "r18 = r16 // 2\n",
        "\n",
        "r19 = r18 % 2\n",
        "r20 = r18 // 2\n",
        "\n",
        "r21 = r20 % 2\n",
        "r22 = r20 // 2\n",
        "\n",
        "r23 = r22 % 2\n",
        "r24 = r22 // 2\n",
        "\n",
        "r25 = r24 % 2\n",
        "r26 = r24 // 2\n",
        "\n",
        "r27 = r26 % 2\n",
        "r28 = r26 // 2\n",
        "\n",
        "r29 = r28 % 2\n",
        "r30 = r28 // 2\n",
        "\n",
        "r31 = r30 % 2\n",
        "r32 = r30 // 2\n",
        "\n",
        "r33 = r32 % 2\n",
        "r34 = r32 // 2\n",
        "\n",
        "print(r33,r31,r29,r27,r25,r23,r21,r19,r17,r15,r13,r11,r9,r7,r5,r3,r1)\n",
        "# print(r34)"
      ],
      "metadata": {
        "id": "LdJKHSSW6ty5",
        "colab": {
          "base_uri": "https://localhost:8080/"
        },
        "outputId": "316b70e5-45e6-4fee-dcd7-b7fd768e6bb9"
      },
      "execution_count": null,
      "outputs": [
        {
          "output_type": "stream",
          "name": "stdout",
          "text": [
            "1 0 1 1 1 1 1 0 0 1 0 0 0 0 0 0 1\n"
          ]
        }
      ]
    },
    {
      "cell_type": "markdown",
      "source": [
        "**Exercise 10: Convert 1011 to Decimal**\n",
        "\n",
        "Write a Python program that:\n",
        "\n",
        "Converts the given binary 1011 to its decimal representation. Prints the decimal representation."
      ],
      "metadata": {
        "id": "e_VISMqg6327"
      }
    },
    {
      "cell_type": "code",
      "source": [
        "a = 1011\n",
        "\n",
        "b1 = (a % 10) * (2**0)\n",
        "a = a // 10\n",
        "b2 = (a % 10) * (2**1)\n",
        "a = a // 10\n",
        "b3 = (a % 10) * (2**2)\n",
        "a = a // 10\n",
        "b4 = (a % 10 ) * (2**3)\n",
        "\n",
        "result = b1 + b2 + b3 + b4\n",
        "print(result)"
      ],
      "metadata": {
        "id": "xFh3wWwW7OiO",
        "colab": {
          "base_uri": "https://localhost:8080/"
        },
        "outputId": "724f8714-cd31-40f1-ddef-2444f46373c4"
      },
      "execution_count": null,
      "outputs": [
        {
          "output_type": "stream",
          "name": "stdout",
          "text": [
            "11\n"
          ]
        }
      ]
    }
  ]
}