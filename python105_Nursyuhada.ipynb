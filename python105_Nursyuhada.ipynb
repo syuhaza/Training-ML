{
  "nbformat": 4,
  "nbformat_minor": 0,
  "metadata": {
    "colab": {
      "provenance": [],
      "include_colab_link": true
    },
    "kernelspec": {
      "name": "python3",
      "display_name": "Python 3"
    },
    "language_info": {
      "name": "python"
    }
  },
  "cells": [
    {
      "cell_type": "markdown",
      "metadata": {
        "id": "view-in-github",
        "colab_type": "text"
      },
      "source": [
        "<a href=\"https://colab.research.google.com/github/syuhaza/Training-ML/blob/master/python105_Nursyuhada.ipynb\" target=\"_parent\"><img src=\"https://colab.research.google.com/assets/colab-badge.svg\" alt=\"Open In Colab\"/></a>"
      ]
    },
    {
      "cell_type": "markdown",
      "source": [
        "**Problem 1 FizzBuzz:**\n",
        "\n",
        "Write a program that prints the numbers from 1 to 100. But for multiples of three, print \"Fizz\" instead of the number, and for the multiples of five, print \"Buzz\". For numbers which are multiples of both three and five, print \"FizzBuzz\"."
      ],
      "metadata": {
        "id": "hR2gbehu8NSW"
      }
    },
    {
      "cell_type": "code",
      "source": [
        "count = 1\n",
        "while count <= 100:\n",
        "    if(count % 3 == 0) and (count % 5 == 0):\n",
        "      print(\"FizzBuzz\", end = \"\\n\")\n",
        "    elif(count % 3 == 0):\n",
        "      print(\"Fizz\", end = \" \")\n",
        "    elif(count % 5 == 0):\n",
        "      print(\"Buzz\", end = \" \")\n",
        "    else:\n",
        "        print(count, end = \" \")\n",
        "    count += 1\n",
        "\n",
        "\n"
      ],
      "metadata": {
        "id": "HbIADmFY8N-n",
        "colab": {
          "base_uri": "https://localhost:8080/"
        },
        "outputId": "01f9e49c-ea8c-4072-df2b-950d1725f623"
      },
      "execution_count": null,
      "outputs": [
        {
          "output_type": "stream",
          "name": "stdout",
          "text": [
            "1 2 Fizz 4 Buzz Fizz 7 8 Fizz Buzz 11 Fizz 13 14 FizzBuzz\n",
            "16 17 Fizz 19 Buzz Fizz 22 23 Fizz Buzz 26 Fizz 28 29 FizzBuzz\n",
            "31 32 Fizz 34 Buzz Fizz 37 38 Fizz Buzz 41 Fizz 43 44 FizzBuzz\n",
            "46 47 Fizz 49 Buzz Fizz 52 53 Fizz Buzz 56 Fizz 58 59 FizzBuzz\n",
            "61 62 Fizz 64 Buzz Fizz 67 68 Fizz Buzz 71 Fizz 73 74 FizzBuzz\n",
            "76 77 Fizz 79 Buzz Fizz 82 83 Fizz Buzz 86 Fizz 88 89 FizzBuzz\n",
            "91 92 Fizz 94 Buzz Fizz 97 98 Fizz Buzz "
          ]
        }
      ]
    },
    {
      "cell_type": "markdown",
      "source": [
        "**Problem 2**\n",
        "**Collatz Sequence:**\n",
        "\n",
        "Write a program that takes an integer input from the user and generates the Collatz sequence for that number. The Collatz sequence is defined as follows:\n",
        "\n",
        "start with a number n. If n is even, the next number is n/2. If n is odd, the next number is 3n + 1. Repeat the process until n becomes 1."
      ],
      "metadata": {
        "id": "REwrKIbt87XC"
      }
    },
    {
      "cell_type": "code",
      "execution_count": null,
      "metadata": {
        "id": "iRjIzJ9u80wC",
        "colab": {
          "base_uri": "https://localhost:8080/"
        },
        "outputId": "34e428e9-74fa-48ad-eb93-a73216e40c7d"
      },
      "outputs": [
        {
          "output_type": "stream",
          "name": "stdout",
          "text": [
            "Enter an integer number:6\n",
            "6 3 10 5 16 8 4 2 1 "
          ]
        }
      ],
      "source": [
        "number = int(input(\"Enter an integer number:\"))\n",
        "\n",
        "print(number, end = \" \")\n",
        "while number != 1:\n",
        "    if (number) % 2 == 0:\n",
        "      number /= 2\n",
        "      print(f\"{number:.0f}\", end = \" \")\n",
        "    else:\n",
        "      number = (3*number) + 1\n",
        "      print(f\"{number:.0f}\", end = \" \")\n"
      ]
    },
    {
      "cell_type": "markdown",
      "source": [
        "**Problem 3 GCD Calculation:**\n",
        "\n",
        "Write a program that takes two integers from the user and calculates their greatest common divisor (GCD) using the Euclidean algorithm.\n",
        "\n",
        "You can refer this Link\n",
        "\n",
        "https://www.khanacademy.org/computing/computer-science/cryptography/modarithmetic/a/the-euclidean-algorithm"
      ],
      "metadata": {
        "id": "9roTdfzE9ML0"
      }
    },
    {
      "cell_type": "code",
      "source": [
        "firstNum = int(input(\"Enter first integer: \"))\n",
        "secNum = int(input(\"Enter second integer: \"))\n",
        "\n",
        "GCDList = []\n",
        "\n",
        "if firstNum > secNum:\n",
        "  numA, numB = firstNum, secNum\n",
        "else:\n",
        "  numA, numB = secNum, firstNum\n",
        "\n",
        "num_A, num_B = numA, numB\n",
        "GCDList.append((num_A,num_B))\n",
        "\n",
        "while num_A > 0:\n",
        "  r = num_A % num_B\n",
        "  num_A, num_B = num_B, r\n",
        "  GCDList.append((num_A,num_B))\n",
        "  if num_A == 0:\n",
        "    result = num_B\n",
        "    break\n",
        "  elif num_B == 0:\n",
        "    result = num_A\n",
        "    break\n",
        "\n",
        "print(GCDList)\n",
        "print(f\"GCD{numA,numB}: {result}\")"
      ],
      "metadata": {
        "id": "dx7AyN_rACLD",
        "colab": {
          "base_uri": "https://localhost:8080/"
        },
        "outputId": "982fb660-c423-41ff-a927-f1fd143991c8"
      },
      "execution_count": null,
      "outputs": [
        {
          "output_type": "stream",
          "name": "stdout",
          "text": [
            "Enter first integer: 270\n",
            "Enter second integer: 192\n",
            "[(270, 192), (192, 78), (78, 36), (36, 6), (6, 0)]\n",
            "GCD(270, 192): 6\n"
          ]
        }
      ]
    },
    {
      "cell_type": "markdown",
      "source": [
        "**Problem 4 Rock, Paper, Scissors:**\n",
        "\n",
        "Write a program that plays the game of Rock, Paper, Scissors with the user. The user makes a choice, the program randomly chooses, and the winner is determined.\n",
        "\n",
        "To generate random number use random module\n",
        "\n",
        "> import random\n",
        "\n",
        "> random.randint(1,3)\n"
      ],
      "metadata": {
        "id": "PWmw0P01EmxQ"
      }
    },
    {
      "cell_type": "code",
      "source": [
        "import random\n",
        "\n",
        "choices = int(input(\"Enter a number (1:Rock)(2:Paper)(3:Rock): \"))\n",
        "\n",
        "pickRandom = random.randint(1,3)\n",
        "\n",
        "print(\"Your chose:\", choices)\n",
        "print(\"Computer chose:\", pickRandom)\n",
        "\n",
        "\n",
        "if (choices == 2 and pickRandom == 1) or (choices == 3 and pickRandom == 2) or (choices == 1 and pickRandom == 3):\n",
        "  print(\"You are the winner!\")\n",
        "elif choices == pickRandom:\n",
        "  print(\"It's a ties.\")\n",
        "else:\n",
        "  print(\"You lose.\")\n",
        "\n"
      ],
      "metadata": {
        "id": "7NiSaFbWEsQ6",
        "colab": {
          "base_uri": "https://localhost:8080/"
        },
        "outputId": "aaa34219-1533-4806-bb1f-be2eb3469557"
      },
      "execution_count": null,
      "outputs": [
        {
          "output_type": "stream",
          "name": "stdout",
          "text": [
            "Enter a number (1:Rock)(2:Paper)(3:Rock): 3\n",
            "Your chose: 3\n",
            "Computer chose: 3\n",
            "It's a ties.\n"
          ]
        }
      ]
    },
    {
      "cell_type": "markdown",
      "source": [
        "**Problem 5 Number Guessing Game:**\n",
        "\n",
        "Write a program that randomly generates a number between 1 and 100. The user has to guess the number. After each guess, the program tells the user whether the guess is too high, too low, or correct. The game continues until the user guesses the correct number.\n",
        "\n",
        "To generate random number use random module\n",
        "\n",
        "> import random\n",
        "\n",
        "> random.randint(1,3)"
      ],
      "metadata": {
        "id": "FRcfLul_70p0"
      }
    },
    {
      "cell_type": "code",
      "source": [
        "import random\n",
        "\n",
        "randomNum = random.randint(1,100)\n",
        "\n",
        "while True:\n",
        "\n",
        "  guessNum = int(input(\"Enter an integer between 1 and 100: \"))\n",
        "  if guessNum > randomNum:\n",
        "    print(\"Your number guess is too high.\")\n",
        "  elif guessNum < randomNum:\n",
        "    print(\"Your number guess is too low.\")\n",
        "  elif guessNum == randomNum:\n",
        "    print(f\"Great! You guessed the number {randomNum} correctly!\")\n",
        "    break\n",
        "\n"
      ],
      "metadata": {
        "id": "dvvPG_WX75kZ",
        "colab": {
          "base_uri": "https://localhost:8080/"
        },
        "outputId": "4c7249fc-e5db-4fd3-e0f7-0da3cd66bb7a"
      },
      "execution_count": null,
      "outputs": [
        {
          "output_type": "stream",
          "name": "stdout",
          "text": [
            "Enter an integer between 1 and 100: 5\n",
            "Your number guess is too low.\n",
            "Enter an integer between 1 and 100: 4\n",
            "Your number guess is too low.\n",
            "Enter an integer between 1 and 100: 76\n",
            "Your number guess is too high.\n",
            "Enter an integer between 1 and 100: 54\n",
            "Your number guess is too high.\n",
            "Enter an integer between 1 and 100: 43\n",
            "Your number guess is too high.\n",
            "Enter an integer between 1 and 100: 32\n",
            "Your number guess is too high.\n",
            "Enter an integer between 1 and 100: 20\n",
            "Your number guess is too low.\n",
            "Enter an integer between 1 and 100: 23\n",
            "Your number guess is too low.\n",
            "Enter an integer between 1 and 100: 25\n",
            "Your number guess is too low.\n",
            "Enter an integer between 1 and 100: 26\n",
            "Your number guess is too low.\n",
            "Enter an integer between 1 and 100: 27\n",
            "Great! You guessed the number 27 correctly!\n"
          ]
        }
      ]
    },
    {
      "cell_type": "markdown",
      "source": [
        "**Problem 6 Perfect Number:**\n",
        "Write a program that generates 10 perfect numbers.\n",
        "\n",
        "Example\n",
        "\n",
        "6: The divisors of 6 are 1, 2, 3, and 6. The sum of its proper divisors (excluding 6 itself) is 1 + 2 + 3 = 6.\n",
        "\n",
        "28: The divisors of 28 are 1, 2, 4, 7, 14, and 28. The sum of its proper divisors (excluding 28 itself) is 1 + 2 + 4 + 7 + 14 = 28.\n"
      ],
      "metadata": {
        "id": "_UJC4aSV9kiu"
      }
    },
    {
      "cell_type": "code",
      "source": [
        "count = 4\n",
        "for a in range(2,60):\n",
        "    isPrime =True\n",
        "    for i in range(2,a):\n",
        "        if(a%i==0):\n",
        "            isPrime = False\n",
        "            break\n",
        "    if(isPrime == True):\n",
        "        perfectNum = ((2**(a - 1)) * ((2**a)-1))  # formula perfect number: 2**p-1(2**p -1) for range 1 to 500\n",
        "        print(perfectNum)\n",
        "        count = count - 1\n",
        "    if count == 0:\n",
        "      break\n"
      ],
      "metadata": {
        "id": "K2E1jwhs9vfR",
        "colab": {
          "base_uri": "https://localhost:8080/"
        },
        "outputId": "b4a91a9a-46e9-4c45-c185-4f5aacc6a555"
      },
      "execution_count": null,
      "outputs": [
        {
          "output_type": "stream",
          "name": "stdout",
          "text": [
            "6\n",
            "28\n",
            "496\n",
            "8128\n"
          ]
        }
      ]
    },
    {
      "cell_type": "markdown",
      "source": [
        "**Problem 7 Harmonic Series:**\n",
        "\n",
        "Write a program that calculates the sum of the first n terms of the harmonic series. Take the n as Input.\n",
        "\n",
        "Hn = 1 +  1/2 + 1/3 + 1/4 .... + 1/n"
      ],
      "metadata": {
        "id": "e4AP_UVU-H9a"
      }
    },
    {
      "cell_type": "code",
      "source": [
        "n = int(input(\"Enter the n terms: \"))\n",
        "\n",
        "# h = 1.00\n",
        "# i = 2\n",
        "totalHarmonic = 1\n",
        "\n",
        "for i in range(2, n + 1):\n",
        "  totalHarmonic += (1/i)\n",
        "  i += 1\n",
        "\n",
        "print(f\"Sum of the first n terms of the harmonic series: {totalHarmonic:.4f}\")\n"
      ],
      "metadata": {
        "id": "uGlmxy8s-i03",
        "colab": {
          "base_uri": "https://localhost:8080/"
        },
        "outputId": "3ff6a6ec-219e-440f-c6cd-5fb0c76ed196"
      },
      "execution_count": null,
      "outputs": [
        {
          "output_type": "stream",
          "name": "stdout",
          "text": [
            "Enter the n terms: 5\n",
            "Sum of the first n terms of the harmonic series: 2.2833\n"
          ]
        }
      ]
    },
    {
      "cell_type": "markdown",
      "source": [
        "**Problem 8 Number to Words:**\n",
        "\n",
        "Write a program that converts a number to its word representation (e.g., 123 to \"one hundred twenty-three\")."
      ],
      "metadata": {
        "id": "dxfP-dOC-_Av"
      }
    },
    {
      "cell_type": "code",
      "source": [
        "def numberToWord(num):\n",
        "\n",
        "    if num == 0:\n",
        "      return \"The number is zero\"\n",
        "\n",
        "    words = \"\"\n",
        "    firstDigit = [\"One\",\"Two\",\"Three\",\"Four\",\"Five\",\"Six\",\"Seven\",\"Eight\",\"Nine\",\"Ten\"]\n",
        "    teenDigit = [\"Eleven\",\"Twelve\",\"Thirteen\",\"Fourteen\",\"Fifteen\",\"Sixteen\",\"Seventeen\",\"Eightteen\",\"Nineteen\"]\n",
        "    tensDigit = [\"\", \"\", \"Twenty\", \"Thirty\", \"Forty\", \"Fifty\", \"Sixty\", \"Seventy\", \"Eighty\", \"Ninety\"]\n",
        "\n",
        "    if num >= 1000:\n",
        "      words += firstDigit[num // 1000-1] + \" thousands \"\n",
        "      num = num % 1000\n",
        "    if num >= 100:\n",
        "      words += firstDigit[num // 100-1] + \" hundred \"\n",
        "      num %= 100\n",
        "    if num >= 10 and num <= 19:\n",
        "      words += \" and \" + teenDigit[num-11] + \" \"\n",
        "      num = 0\n",
        "    elif num >= 20:\n",
        "      words += \" and \" + tensDigit[num//10] + \" \"\n",
        "      num %= 10\n",
        "    if num >= 1 and num <= 9:\n",
        "        words += firstDigit[num-1] + \" \"\n",
        "    return words\n",
        "\n",
        "\n",
        "num = int(input(\"Enter a number to convert into words: \"))\n",
        "\n",
        "words = numberToWord(num)\n",
        "\n",
        "print(\"The words representation of the number: \", words)\n"
      ],
      "metadata": {
        "id": "YtvjedDA_DQg",
        "colab": {
          "base_uri": "https://localhost:8080/"
        },
        "outputId": "a55c748c-8031-4bb8-f5be-c359abd6e266"
      },
      "execution_count": null,
      "outputs": [
        {
          "output_type": "stream",
          "name": "stdout",
          "text": [
            "Enter a number to convert into words: 223\n",
            "The words representation of the number:  Two hundred  and\n"
          ]
        }
      ]
    },
    {
      "cell_type": "markdown",
      "source": [
        "**Problem 9 Roman to Integer**\n",
        "\n",
        "Write a program to convert a Roman numeral to an integer and also convert integer to Roman numeral"
      ],
      "metadata": {
        "id": "3fhoTm-STYQH"
      }
    },
    {
      "cell_type": "code",
      "source": [
        "def valueRoman(r):\n",
        "  if r == \"I\":\n",
        "    return 1\n",
        "  if r == \"V\":\n",
        "    return 5\n",
        "  if r == \"X\":\n",
        "    return 10\n",
        "  if r == \"L\":\n",
        "    return 50\n",
        "  if r == \"C\":\n",
        "    return 100\n",
        "  if r == \"D\":\n",
        "    return 500\n",
        "  if r == \"M\":\n",
        "    return 1000\n",
        "  return -1\n",
        "\n",
        "\n",
        "def printRoman(s):\n",
        "# numtoRoman = [(\"I\",1),(\"V\",5),(\"X\",10),(\"L\",50),(\"C\",100),(\"D\",500),(\"M\",1000)]\n",
        "\n",
        "    result = 0\n",
        "    i = 0\n",
        "\n",
        "    while i < len(s):\n",
        "      string1 = valueRoman(s[i])\n",
        "      if i + 1 < len(s):\n",
        "        string2 = valueRoman(s[i + 1])\n",
        "        if string1 > string2:\n",
        "          result += string1\n",
        "          i += 1\n",
        "        else:\n",
        "          result += string2 - string1\n",
        "          i += 2\n",
        "      else:\n",
        "        result += string1\n",
        "        i += 1\n",
        "    return result\n",
        "\n",
        "\n",
        "def intRoman(num):\n",
        "    value = [1000, 900, 500, 400, 100, 90, 50, 40, 10, 9, 5, 4, 1]\n",
        "    symbol = [\"M\", \"CM\", \"D\", \"CD\",\"C\", \"XC\", \"L\", \"XL\",\"X\", \"IX\", \"V\", \"IV\",\"I\"]\n",
        "    roman_num = ''\n",
        "    i = 0\n",
        "    while  num > 0:\n",
        "        for _ in range(num // value[i]):\n",
        "            roman_num += symbol[i]\n",
        "            num -= value[i]\n",
        "        i += 1\n",
        "    return roman_num\n",
        "\n",
        "\n",
        "convertRomanOrNumeral = input(\"Enter an integer number or Roman numeral: \")\n",
        "\n",
        "if convertRomanOrNumeral.isdigit():\n",
        "  roman_num = intRoman(int(convertRomanOrNumeral))\n",
        "  print(\"The Roman numeral for number: \", roman_num)\n",
        "else:\n",
        "  result = printRoman(convertRomanOrNumeral.upper())\n",
        "  print(\"The number of the Roman numeral: \", result)\n",
        "\n"
      ],
      "metadata": {
        "id": "ChqqRUB-TnCM",
        "colab": {
          "base_uri": "https://localhost:8080/"
        },
        "outputId": "217ac59a-7cc1-46b0-94d5-3e190e10f98d"
      },
      "execution_count": null,
      "outputs": [
        {
          "output_type": "stream",
          "name": "stdout",
          "text": [
            "Enter an integer number or Roman numeral: cmiv\n",
            "The number of the Roman numeral:  904\n"
          ]
        }
      ]
    },
    {
      "cell_type": "markdown",
      "source": [
        "**Problem 10 String Compression**\n",
        "\n",
        "Write a program to perform basic string compression using the counts of repeated characters (e.g., \"aabcccccaaa\" -> \"a2b1c5a3\")."
      ],
      "metadata": {
        "id": "XoxCmRh4T3gt"
      }
    },
    {
      "cell_type": "code",
      "source": [
        "stringInput = \"aabbcccccaaahhh\"\n",
        "count=0\n",
        "newString = \"\"\n",
        "for i in range(1, len(stringInput)):\n",
        "    if stringInput[i]==stringInput[i-1]:\n",
        "        count+=1\n",
        "        if(i+1)==len(stringInput):\n",
        "            newString += stringInput[i]+str(count+1)\n",
        "    else:\n",
        "        newString += stringInput[i-1]+str(count+1)\n",
        "        count=0\n",
        "print(newString)"
      ],
      "metadata": {
        "id": "h1PMlTKXT9s-",
        "colab": {
          "base_uri": "https://localhost:8080/"
        },
        "outputId": "b572ec2d-58cf-4484-cbd5-56fa89cd0fb7"
      },
      "execution_count": null,
      "outputs": [
        {
          "output_type": "stream",
          "name": "stdout",
          "text": [
            "a2b2c5a3h3\n"
          ]
        }
      ]
    }
  ]
}